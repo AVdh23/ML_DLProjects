{
 "cells": [
  {
   "cell_type": "markdown",
   "id": "6c7c5ab7",
   "metadata": {},
   "source": [
    "# Efficient Teacher Detetction\n"
   ]
  },
  {
   "cell_type": "code",
   "execution_count": 1,
   "id": "e870a3f8",
   "metadata": {},
   "outputs": [
    {
     "data": {
      "text/plain": [
       "'\\nRun inference on images, videos, directories, streams, etc.\\n\\nUsage:\\n    $ python path/to/detect.py --source path/to/img.jpg --weights yolov5s.pt --img 640\\n'"
      ]
     },
     "execution_count": 1,
     "metadata": {},
     "output_type": "execute_result"
    }
   ],
   "source": [
    "\"\"\"\n",
    "Run inference on images, videos, directories, streams, etc.\n",
    "\n",
    "Usage:\n",
    "    $ python path/to/detect.py --source path/to/img.jpg --weights yolov5s.pt --img 640\n",
    "\"\"\""
   ]
  },
  {
   "cell_type": "code",
   "execution_count": null,
   "id": "669c0106",
   "metadata": {},
   "outputs": [],
   "source": [
    "# Importing the packages\n",
    "import argparse\n",
    "import os\n",
    "import sys\n",
    "from pathlib import Path\n",
    "\n",
    "import cv2\n",
    "import numpy as np\n",
    "import torch\n",
    "import torch.backends.cudnn as cudnn\n"
   ]
  },
  {
   "cell_type": "code",
   "execution_count": null,
   "id": "fc6b15ac",
   "metadata": {},
   "outputs": [],
   "source": [
    "pip install torch\n"
   ]
  },
  {
   "cell_type": "code",
   "execution_count": 7,
   "id": "eb2fcdd8",
   "metadata": {},
   "outputs": [
    {
     "name": "stdout",
     "output_type": "stream",
     "text": [
      "Requirement already satisfied: pathlib in c:\\users\\acer pc\\anaconda3\\lib\\site-packages (1.0.1)\n",
      "Note: you may need to restart the kernel to use updated packages.\n"
     ]
    }
   ],
   "source": [
    "pip install pathlib\n"
   ]
  },
  {
   "cell_type": "code",
   "execution_count": null,
   "id": "193aeeb4",
   "metadata": {},
   "outputs": [],
   "source": [
    "a=[1,2,3,4]\n"
   ]
  },
  {
   "cell_type": "code",
   "execution_count": null,
   "id": "53fd8fb9",
   "metadata": {},
   "outputs": [],
   "source": []
  }
 ],
 "metadata": {
  "kernelspec": {
   "display_name": "Python 3 (ipykernel)",
   "language": "python",
   "name": "python3"
  },
  "language_info": {
   "codemirror_mode": {
    "name": "ipython",
    "version": 3
   },
   "file_extension": ".py",
   "mimetype": "text/x-python",
   "name": "python",
   "nbconvert_exporter": "python",
   "pygments_lexer": "ipython3",
   "version": "3.9.13"
  }
 },
 "nbformat": 4,
 "nbformat_minor": 5
}
