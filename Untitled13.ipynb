{
 "cells": [
  {
   "cell_type": "code",
   "execution_count": 1,
   "id": "2ed23297",
   "metadata": {},
   "outputs": [],
   "source": [
    "import goose3\n",
    "from sklearn.feature_extraction.text import CountVectorizer\n",
    "import nltk\n",
    "import spacy\n",
    "from spacy.lang.en.examples import sentences "
   ]
  },
  {
   "cell_type": "code",
   "execution_count": 2,
   "id": "b70d13df",
   "metadata": {},
   "outputs": [],
   "source": [
    "goose= goose3.Goose()\n",
    "data=goose.extract(\"https://en.wikipedia.org/wiki/Natural_language_processing\")"
   ]
  },
  {
   "cell_type": "code",
   "execution_count": 3,
   "id": "eb36eedb",
   "metadata": {},
   "outputs": [],
   "source": [
    "data=data.cleaned_text"
   ]
  },
  {
   "cell_type": "code",
   "execution_count": 4,
   "id": "7613de82",
   "metadata": {},
   "outputs": [
    {
     "data": {
      "text/plain": [
       "'Natural language processing (NLP) is an interdisciplinary subfield of linguistics, computer science, and artificial intelligence concerned with the interactions between computers and human language, in particular how to program computers to process and analyze large amounts of natural language data. The goal is a computer capable of \"understanding\" the contents of documents, including the contextual nuances of the language within them. The technology can then accurately extract information and insights contained in the documents as well as categorize and organize the documents themselves.\\n\\nNatural language processing has its roots in the 1950s. Already in 1950, Alan Turing published an article titled \"Computing Machinery and Intelligence\" which proposed what is now called the Turing test as a criterion of intelligence, though at the time that was not articulated as a problem separate from artificial intelligence. The proposed test includes a task that involves the automated interpretation and generation of natural language.\\n\\nThe premise of symbolic NLP is well-summarized by John Searle\\'s Chinese room experiment: Given a collection of rules (e.g., a Chinese phrasebook, with questions and matching answers), the computer emulates natural language understanding (or other NLP tasks) by applying those rules to the data it confronts.\\n• 1950s: The Georgetown experiment in 1954 involved fully automatic translation of more than sixty Russian sentences into English. The authors claimed that within three or five years, machine translation would be a solved problem.[2] However, real progress was much slower, and after the ALPAC report in 1966, which found that ten-year-long research had failed to fulfill the expectations, funding for machine translation was dramatically reduced. Little further research in machine translation was conducted until the late 1980s when the first statistical machine translation systems were developed.\\n• 1960s: Some notably successful natural language processing systems developed in the 1960s were SHRDLU, a natural language system working in restricted \"blocks worlds\" with restricted vocabularies, and ELIZA, a simulation of a Rogerian psychotherapist, written by Joseph Weizenbaum between 1964 and 1966. Using almost no information about human thought or emotion, ELIZA sometimes provided a startlingly human-like interaction. When the \"patient\" exceeded the very small knowledge base, ELIZA might provide a generic response, for example, responding to \"My head hurts\" with \"Why do you say your head hurts?\".\\n• 1970s: During the 1970s, many programmers began to write \"conceptual ontologies\", which structured real-world information into computer-understandable data. Examples are MARGIE (Schank, 1975), SAM (Cullingford, 1978), PAM (Wilensky, 1978), TaleSpin (Meehan, 1976), QUALM (Lehnert, 1977), Politics (Carbonell, 1979), and Plot Units (Lehnert 1981). During this time, the first chatterbots were written (e.g., PARRY).\\n• 1980s: The 1980s and early 1990s mark the heyday of symbolic methods in NLP. Focus areas of the time included research on rule-based parsing (e.g., the development of HPSG as a computational operationalization of generative grammar), morphology (e.g., two-level morphology[3]), semantics (e.g., Lesk algorithm), reference (e.g., within Centering Theory[4]) and other areas of natural language understanding (e.g., in the Rhetorical Structure Theory). Other lines of research were continued, e.g., the development of chatterbots with Racter and Jabberwacky. An important development (that eventually led to the statistical turn in the 1990s) was the rising importance of quantitative evaluation in this period.[5]\\n\\nUp to the 1980s, most natural language processing systems were based on complex sets of hand-written rules. Starting in the late 1980s, however, there was a revolution in natural language processing with the introduction of machine learning algorithms for language processing. This was due to both the steady increase in computational power (see Moore\\'s law) and the gradual lessening of the dominance of Chomskyan theories of linguistics (e.g. transformational grammar), whose theoretical underpinnings discouraged the sort of corpus linguistics that underlies the machine-learning approach to language processing.[6]\\n• 1990s: Many of the notable early successes on statistical methods in NLP occurred in the field of machine translation, due especially to work at IBM Research. These systems were able to take advantage of existing multilingual textual corpora that had been produced by the Parliament of Canada and the European Union as a result of laws calling for the translation of all governmental proceedings into all official languages of the corresponding systems of government. However, most other systems depended on corpora specifically developed for the tasks implemented by these systems, which was (and often continues to be) a major limitation in the success of these systems. As a result, a great deal of research has gone into methods of more effectively learning from limited amounts of data.\\n• 2000s: With the growth of the web, increasing amounts of raw (unannotated) language data has become available since the mid-1990s. Research has thus increasingly focused on unsupervised and semi-supervised learning algorithms. Such algorithms can learn from data that has not been hand-annotated with the desired answers or using a combination of annotated and non-annotated data. Generally, this task is much more difficult than supervised learning, and typically produces less accurate results for a given amount of input data. However, there is an enormous amount of non-annotated data available (including, among other things, the entire content of the World Wide Web), which can often make up for the inferior results if the algorithm used has a low enough time complexity to be practical.\\n\\nIn the 2010s, representation learning and deep neural network-style machine learning methods became widespread in natural language processing. That popularity was due partly to a flurry of results showing that such techniques[7][8] can achieve state-of-the-art results in many natural language tasks, e.g., in language modeling[9] and parsing.[10][11] This is increasingly important in medicine and healthcare, where NLP helps analyze notes and text in electronic health records that would otherwise be inaccessible for study when seeking to improve care.[12]\\n\\nIn the early days, many language-processing systems were designed by symbolic methods, i.e., the hand-coding of a set of rules, coupled with a dictionary lookup:[13][14] such as by writing grammars or devising heuristic rules for stemming.\\n\\nMore recent systems based on machine-learning algorithms have many advantages over hand-produced rules:\\n• The learning procedures used during machine learning automatically focus on the most common cases, whereas when writing rules by hand it is often not at all obvious where the effort should be directed.\\n• Automatic learning procedures can make use of statistical inference algorithms to produce models that are robust to unfamiliar input (e.g. containing words or structures that have not been seen before) and to erroneous input (e.g. with misspelled words or words accidentally omitted). Generally, handling such input gracefully with handwritten rules, or, more generally, creating systems of handwritten rules that make soft decisions, is extremely difficult, error-prone and time-consuming.\\n• Systems based on automatically learning the rules can be made more accurate simply by supplying more input data. However, systems based on handwritten rules can only be made more accurate by increasing the complexity of the rules, which is a much more difficult task. In particular, there is a limit to the complexity of systems based on handwritten rules, beyond which the systems become more and more unmanageable. However, creating more data to input to machine-learning systems simply requires a corresponding increase in the number of man-hours worked, generally without significant increases in the complexity of the annotation process.\\n\\nDespite the popularity of machine learning in NLP research, symbolic methods are still (2020) commonly used:\\n• when the amount of training data is insufficient to successfully apply machine learning methods, e.g., for the machine translation of low-resource languages such as provided by the Apertium system,\\n• for preprocessing in NLP pipelines, e.g., tokenization, or\\n• for postprocessing and transforming the output of NLP pipelines, e.g., for knowledge extraction from syntactic parses.\\n\\nSince the so-called \"statistical revolution\"[15][16] in the late 1980s and mid-1990s, much natural language processing research has relied heavily on machine learning. The machine-learning paradigm calls instead for using statistical inference to automatically learn such rules through the analysis of large corpora (the plural form of corpus, is a set of documents, possibly with human or computer annotations) of typical real-world examples.\\n\\nMany different classes of machine-learning algorithms have been applied to natural-language-processing tasks. These algorithms take as input a large set of \"features\" that are generated from the input data. Increasingly, however, research has focused on statistical models, which make soft, probabilistic decisions based on attaching real-valued weights to each input feature (complex-valued embeddings,[17] and neural networks in general have also been proposed, for e.g. speech[18]). Such models have the advantage that they can express the relative certainty of many different possible answers rather than only one, producing more reliable results when such a model is included as a component of a larger system.\\n\\nSome of the earliest-used machine learning algorithms, such as decision trees, produced systems of hard if-then rules similar to existing hand-written rules. However, part-of-speech tagging introduced the use of hidden Markov models to natural language processing, and increasingly, research has focused on statistical models, which make soft, probabilistic decisions based on attaching real-valued weights to the features making up the input data. The cache language models upon which many speech recognition systems now rely are examples of such statistical models. Such models are generally more robust when given unfamiliar input, especially input that contains errors (as is very common for real-world data), and produce more reliable results when integrated into a larger system comprising multiple subtasks.\\n\\nSince the neural turn, statistical methods in NLP research have been largely replaced by neural networks. However, they continue to be relevant for contexts in which statistical interpretability and transparency is required.\\n\\nA major drawback of statistical methods is that they require elaborate feature engineering. Since 2015,[19] the field has thus largely abandoned statistical methods and shifted to neural networks for machine learning. Popular techniques include the use of word embeddings to capture semantic properties of words, and an increase in end-to-end learning of a higher-level task (e.g., question answering) instead of relying on a pipeline of separate intermediate tasks (e.g., part-of-speech tagging and dependency parsing). In some areas, this shift has entailed substantial changes in how NLP systems are designed, such that deep neural network-based approaches may be viewed as a new paradigm distinct from statistical natural language processing. For instance, the term neural machine translation (NMT) emphasizes the fact that deep learning-based approaches to machine translation directly learn sequence-to-sequence transformations, obviating the need for intermediate steps such as word alignment and language modeling that was used in statistical machine translation (SMT).\\n\\nThe following is a list of some of the most commonly researched tasks in natural language processing. Some of these tasks have direct real-world applications, while others more commonly serve as subtasks that are used to aid in solving larger tasks.\\n\\nThough natural language processing tasks are closely intertwined, they can be subdivided into categories for convenience. A coarse division is given below.\\n\\nBased on long-standing trends in the field, it is possible to extrapolate future directions of NLP. As of 2020, three trends among the topics of the long-standing series of CoNLL Shared Tasks can be observed:[40]\\n• Increasing interest in multilinguality, and, potentially, multimodality (English since 1999; Spanish, Dutch since 2002; German since 2003; Bulgarian, Danish, Japanese, Portuguese, Slovenian, Swedish, Turkish since 2006; Basque, Catalan, Chinese, Greek, Hungarian, Italian, Turkish since 2007; Czech since 2009; Arabic since 2012; 2017: 40+ languages; 2018: 60+/100+ languages)\\n• Elimination of symbolic representations (rule-based over supervised towards weakly supervised methods, representation learning and end-to-end systems)\\n\\nMost higher-level NLP applications involve aspects that emulate intelligent behaviour and apparent comprehension of natural language. More broadly speaking, the technical operationalization of increasingly advanced aspects of cognitive behaviour represents one of the developmental trajectories of NLP (see trends among CoNLL shared tasks above).\\n\\nCognition refers to \"the mental action or process of acquiring knowledge and understanding through thought, experience, and the senses.\"[41] Cognitive science is the interdisciplinary, scientific study of the mind and its processes.[42] Cognitive linguistics is an interdisciplinary branch of linguistics, combining knowledge and research from both psychology and linguistics.[43] Especially during the age of symbolic NLP, the area of computational linguistics maintained strong ties with cognitive studies.\\n\\nAs an example, George Lakoff offers a methodology to build natural language processing (NLP) algorithms through the perspective of cognitive science, along with the findings of cognitive linguistics,[44] with two defining aspects:\\n• Apply the theory of conceptual metaphor, explained by Lakoff as \"the understanding of one idea, in terms of another\" which provides an idea of the intent of the author.[45] For example, consider the English word big. When used in a comparison (\"That is a big tree\"), the author\\'s intent is to imply that the tree is physically large relative to other trees or the authors experience. When used metaphorically (\"Tomorrow is a big day\"), the author\\'s intent to imply importance. The intent behind other usages, like in \"She is a big person\", will remain somewhat ambiguous to a person and a cognitive NLP algorithm alike without additional information.\\n• Assign relative measures of meaning to a word, phrase, sentence or piece of text based on the information presented before and after the piece of text being analyzed, e.g., by means of a probabilistic context-free grammar (PCFG). The mathematical equation for such algorithms is presented in :\\n\\nTies with cognitive linguistics are part of the historical heritage of NLP, but they have been less frequently addressed since the statistical turn during the 1990s. Nevertheless, approaches to develop cognitive models towards technically operationalizable frameworks have been pursued in the context of various frameworks, e.g., of cognitive grammar,[46] functional grammar,[47] construction grammar,[48] computational psycholinguistics and cognitive neuroscience (e.g., ACT-R), however, with limited uptake in mainstream NLP (as measured by presence on major conferences[49] of the ACL). More recently, ideas of cognitive NLP have been revived as an approach to achieve explainability, e.g., under the notion of \"cognitive AI\".[50] Likewise, ideas of cognitive NLP are inherent to neural models multimodal NLP (although rarely made explicit).[51]'"
      ]
     },
     "execution_count": 4,
     "metadata": {},
     "output_type": "execute_result"
    }
   ],
   "source": [
    "data"
   ]
  },
  {
   "cell_type": "code",
   "execution_count": 5,
   "id": "0b3ba07b",
   "metadata": {},
   "outputs": [
    {
     "data": {
      "text/plain": [
       "'Natural language'"
      ]
     },
     "execution_count": 5,
     "metadata": {},
     "output_type": "execute_result"
    }
   ],
   "source": [
    "data[:16]"
   ]
  },
  {
   "cell_type": "code",
   "execution_count": 6,
   "id": "e17dc912",
   "metadata": {},
   "outputs": [],
   "source": [
    "sentences = [sentence for sentence in nltk.sent_tokenize(data)]"
   ]
  },
  {
   "cell_type": "code",
   "execution_count": 7,
   "id": "d65ac8d3",
   "metadata": {},
   "outputs": [
    {
     "data": {
      "text/plain": [
       "['Natural language processing (NLP) is an interdisciplinary subfield of linguistics, computer science, and artificial intelligence concerned with the interactions between computers and human language, in particular how to program computers to process and analyze large amounts of natural language data.',\n",
       " 'The goal is a computer capable of \"understanding\" the contents of documents, including the contextual nuances of the language within them.',\n",
       " 'The technology can then accurately extract information and insights contained in the documents as well as categorize and organize the documents themselves.',\n",
       " 'Natural language processing has its roots in the 1950s.',\n",
       " 'Already in 1950, Alan Turing published an article titled \"Computing Machinery and Intelligence\" which proposed what is now called the Turing test as a criterion of intelligence, though at the time that was not articulated as a problem separate from artificial intelligence.',\n",
       " 'The proposed test includes a task that involves the automated interpretation and generation of natural language.',\n",
       " \"The premise of symbolic NLP is well-summarized by John Searle's Chinese room experiment: Given a collection of rules (e.g., a Chinese phrasebook, with questions and matching answers), the computer emulates natural language understanding (or other NLP tasks) by applying those rules to the data it confronts.\",\n",
       " '• 1950s: The Georgetown experiment in 1954 involved fully automatic translation of more than sixty Russian sentences into English.',\n",
       " 'The authors claimed that within three or five years, machine translation would be a solved problem.',\n",
       " '[2] However, real progress was much slower, and after the ALPAC report in 1966, which found that ten-year-long research had failed to fulfill the expectations, funding for machine translation was dramatically reduced.',\n",
       " 'Little further research in machine translation was conducted until the late 1980s when the first statistical machine translation systems were developed.',\n",
       " '• 1960s: Some notably successful natural language processing systems developed in the 1960s were SHRDLU, a natural language system working in restricted \"blocks worlds\" with restricted vocabularies, and ELIZA, a simulation of a Rogerian psychotherapist, written by Joseph Weizenbaum between 1964 and 1966.',\n",
       " 'Using almost no information about human thought or emotion, ELIZA sometimes provided a startlingly human-like interaction.',\n",
       " 'When the \"patient\" exceeded the very small knowledge base, ELIZA might provide a generic response, for example, responding to \"My head hurts\" with \"Why do you say your head hurts?\".',\n",
       " '• 1970s: During the 1970s, many programmers began to write \"conceptual ontologies\", which structured real-world information into computer-understandable data.',\n",
       " 'Examples are MARGIE (Schank, 1975), SAM (Cullingford, 1978), PAM (Wilensky, 1978), TaleSpin (Meehan, 1976), QUALM (Lehnert, 1977), Politics (Carbonell, 1979), and Plot Units (Lehnert 1981).',\n",
       " 'During this time, the first chatterbots were written (e.g., PARRY).',\n",
       " '• 1980s: The 1980s and early 1990s mark the heyday of symbolic methods in NLP.',\n",
       " 'Focus areas of the time included research on rule-based parsing (e.g., the development of HPSG as a computational operationalization of generative grammar), morphology (e.g., two-level morphology[3]), semantics (e.g., Lesk algorithm), reference (e.g., within Centering Theory[4]) and other areas of natural language understanding (e.g., in the Rhetorical Structure Theory).',\n",
       " 'Other lines of research were continued, e.g., the development of chatterbots with Racter and Jabberwacky.',\n",
       " 'An important development (that eventually led to the statistical turn in the 1990s) was the rising importance of quantitative evaluation in this period.',\n",
       " '[5]\\n\\nUp to the 1980s, most natural language processing systems were based on complex sets of hand-written rules.',\n",
       " 'Starting in the late 1980s, however, there was a revolution in natural language processing with the introduction of machine learning algorithms for language processing.',\n",
       " \"This was due to both the steady increase in computational power (see Moore's law) and the gradual lessening of the dominance of Chomskyan theories of linguistics (e.g.\",\n",
       " 'transformational grammar), whose theoretical underpinnings discouraged the sort of corpus linguistics that underlies the machine-learning approach to language processing.',\n",
       " '[6]\\n• 1990s: Many of the notable early successes on statistical methods in NLP occurred in the field of machine translation, due especially to work at IBM Research.',\n",
       " 'These systems were able to take advantage of existing multilingual textual corpora that had been produced by the Parliament of Canada and the European Union as a result of laws calling for the translation of all governmental proceedings into all official languages of the corresponding systems of government.',\n",
       " 'However, most other systems depended on corpora specifically developed for the tasks implemented by these systems, which was (and often continues to be) a major limitation in the success of these systems.',\n",
       " 'As a result, a great deal of research has gone into methods of more effectively learning from limited amounts of data.',\n",
       " '• 2000s: With the growth of the web, increasing amounts of raw (unannotated) language data has become available since the mid-1990s.',\n",
       " 'Research has thus increasingly focused on unsupervised and semi-supervised learning algorithms.',\n",
       " 'Such algorithms can learn from data that has not been hand-annotated with the desired answers or using a combination of annotated and non-annotated data.',\n",
       " 'Generally, this task is much more difficult than supervised learning, and typically produces less accurate results for a given amount of input data.',\n",
       " 'However, there is an enormous amount of non-annotated data available (including, among other things, the entire content of the World Wide Web), which can often make up for the inferior results if the algorithm used has a low enough time complexity to be practical.',\n",
       " 'In the 2010s, representation learning and deep neural network-style machine learning methods became widespread in natural language processing.',\n",
       " 'That popularity was due partly to a flurry of results showing that such techniques[7][8] can achieve state-of-the-art results in many natural language tasks, e.g., in language modeling[9] and parsing.',\n",
       " '[10][11] This is increasingly important in medicine and healthcare, where NLP helps analyze notes and text in electronic health records that would otherwise be inaccessible for study when seeking to improve care.',\n",
       " '[12]\\n\\nIn the early days, many language-processing systems were designed by symbolic methods, i.e., the hand-coding of a set of rules, coupled with a dictionary lookup:[13][14] such as by writing grammars or devising heuristic rules for stemming.',\n",
       " 'More recent systems based on machine-learning algorithms have many advantages over hand-produced rules:\\n• The learning procedures used during machine learning automatically focus on the most common cases, whereas when writing rules by hand it is often not at all obvious where the effort should be directed.',\n",
       " '• Automatic learning procedures can make use of statistical inference algorithms to produce models that are robust to unfamiliar input (e.g.',\n",
       " 'containing words or structures that have not been seen before) and to erroneous input (e.g.',\n",
       " 'with misspelled words or words accidentally omitted).',\n",
       " 'Generally, handling such input gracefully with handwritten rules, or, more generally, creating systems of handwritten rules that make soft decisions, is extremely difficult, error-prone and time-consuming.',\n",
       " '• Systems based on automatically learning the rules can be made more accurate simply by supplying more input data.',\n",
       " 'However, systems based on handwritten rules can only be made more accurate by increasing the complexity of the rules, which is a much more difficult task.',\n",
       " 'In particular, there is a limit to the complexity of systems based on handwritten rules, beyond which the systems become more and more unmanageable.',\n",
       " 'However, creating more data to input to machine-learning systems simply requires a corresponding increase in the number of man-hours worked, generally without significant increases in the complexity of the annotation process.',\n",
       " 'Despite the popularity of machine learning in NLP research, symbolic methods are still (2020) commonly used:\\n• when the amount of training data is insufficient to successfully apply machine learning methods, e.g., for the machine translation of low-resource languages such as provided by the Apertium system,\\n• for preprocessing in NLP pipelines, e.g., tokenization, or\\n• for postprocessing and transforming the output of NLP pipelines, e.g., for knowledge extraction from syntactic parses.',\n",
       " 'Since the so-called \"statistical revolution\"[15][16] in the late 1980s and mid-1990s, much natural language processing research has relied heavily on machine learning.',\n",
       " 'The machine-learning paradigm calls instead for using statistical inference to automatically learn such rules through the analysis of large corpora (the plural form of corpus, is a set of documents, possibly with human or computer annotations) of typical real-world examples.',\n",
       " 'Many different classes of machine-learning algorithms have been applied to natural-language-processing tasks.',\n",
       " 'These algorithms take as input a large set of \"features\" that are generated from the input data.',\n",
       " 'Increasingly, however, research has focused on statistical models, which make soft, probabilistic decisions based on attaching real-valued weights to each input feature (complex-valued embeddings,[17] and neural networks in general have also been proposed, for e.g.',\n",
       " 'speech[18]).',\n",
       " 'Such models have the advantage that they can express the relative certainty of many different possible answers rather than only one, producing more reliable results when such a model is included as a component of a larger system.',\n",
       " 'Some of the earliest-used machine learning algorithms, such as decision trees, produced systems of hard if-then rules similar to existing hand-written rules.',\n",
       " 'However, part-of-speech tagging introduced the use of hidden Markov models to natural language processing, and increasingly, research has focused on statistical models, which make soft, probabilistic decisions based on attaching real-valued weights to the features making up the input data.',\n",
       " 'The cache language models upon which many speech recognition systems now rely are examples of such statistical models.',\n",
       " 'Such models are generally more robust when given unfamiliar input, especially input that contains errors (as is very common for real-world data), and produce more reliable results when integrated into a larger system comprising multiple subtasks.',\n",
       " 'Since the neural turn, statistical methods in NLP research have been largely replaced by neural networks.',\n",
       " 'However, they continue to be relevant for contexts in which statistical interpretability and transparency is required.',\n",
       " 'A major drawback of statistical methods is that they require elaborate feature engineering.',\n",
       " 'Since 2015,[19] the field has thus largely abandoned statistical methods and shifted to neural networks for machine learning.',\n",
       " 'Popular techniques include the use of word embeddings to capture semantic properties of words, and an increase in end-to-end learning of a higher-level task (e.g., question answering) instead of relying on a pipeline of separate intermediate tasks (e.g., part-of-speech tagging and dependency parsing).',\n",
       " 'In some areas, this shift has entailed substantial changes in how NLP systems are designed, such that deep neural network-based approaches may be viewed as a new paradigm distinct from statistical natural language processing.',\n",
       " 'For instance, the term neural machine translation (NMT) emphasizes the fact that deep learning-based approaches to machine translation directly learn sequence-to-sequence transformations, obviating the need for intermediate steps such as word alignment and language modeling that was used in statistical machine translation (SMT).',\n",
       " 'The following is a list of some of the most commonly researched tasks in natural language processing.',\n",
       " 'Some of these tasks have direct real-world applications, while others more commonly serve as subtasks that are used to aid in solving larger tasks.',\n",
       " 'Though natural language processing tasks are closely intertwined, they can be subdivided into categories for convenience.',\n",
       " 'A coarse division is given below.',\n",
       " 'Based on long-standing trends in the field, it is possible to extrapolate future directions of NLP.',\n",
       " 'As of 2020, three trends among the topics of the long-standing series of CoNLL Shared Tasks can be observed:[40]\\n• Increasing interest in multilinguality, and, potentially, multimodality (English since 1999; Spanish, Dutch since 2002; German since 2003; Bulgarian, Danish, Japanese, Portuguese, Slovenian, Swedish, Turkish since 2006; Basque, Catalan, Chinese, Greek, Hungarian, Italian, Turkish since 2007; Czech since 2009; Arabic since 2012; 2017: 40+ languages; 2018: 60+/100+ languages)\\n• Elimination of symbolic representations (rule-based over supervised towards weakly supervised methods, representation learning and end-to-end systems)\\n\\nMost higher-level NLP applications involve aspects that emulate intelligent behaviour and apparent comprehension of natural language.',\n",
       " 'More broadly speaking, the technical operationalization of increasingly advanced aspects of cognitive behaviour represents one of the developmental trajectories of NLP (see trends among CoNLL shared tasks above).',\n",
       " 'Cognition refers to \"the mental action or process of acquiring knowledge and understanding through thought, experience, and the senses.',\n",
       " '\"[41] Cognitive science is the interdisciplinary, scientific study of the mind and its processes.',\n",
       " '[42] Cognitive linguistics is an interdisciplinary branch of linguistics, combining knowledge and research from both psychology and linguistics.',\n",
       " '[43] Especially during the age of symbolic NLP, the area of computational linguistics maintained strong ties with cognitive studies.',\n",
       " 'As an example, George Lakoff offers a methodology to build natural language processing (NLP) algorithms through the perspective of cognitive science, along with the findings of cognitive linguistics,[44] with two defining aspects:\\n• Apply the theory of conceptual metaphor, explained by Lakoff as \"the understanding of one idea, in terms of another\" which provides an idea of the intent of the author.',\n",
       " '[45] For example, consider the English word big.',\n",
       " 'When used in a comparison (\"That is a big tree\"), the author\\'s intent is to imply that the tree is physically large relative to other trees or the authors experience.',\n",
       " 'When used metaphorically (\"Tomorrow is a big day\"), the author\\'s intent to imply importance.',\n",
       " 'The intent behind other usages, like in \"She is a big person\", will remain somewhat ambiguous to a person and a cognitive NLP algorithm alike without additional information.',\n",
       " '• Assign relative measures of meaning to a word, phrase, sentence or piece of text based on the information presented before and after the piece of text being analyzed, e.g., by means of a probabilistic context-free grammar (PCFG).',\n",
       " 'The mathematical equation for such algorithms is presented in :\\n\\nTies with cognitive linguistics are part of the historical heritage of NLP, but they have been less frequently addressed since the statistical turn during the 1990s.',\n",
       " 'Nevertheless, approaches to develop cognitive models towards technically operationalizable frameworks have been pursued in the context of various frameworks, e.g., of cognitive grammar,[46] functional grammar,[47] construction grammar,[48] computational psycholinguistics and cognitive neuroscience (e.g., ACT-R), however, with limited uptake in mainstream NLP (as measured by presence on major conferences[49] of the ACL).',\n",
       " 'More recently, ideas of cognitive NLP have been revived as an approach to achieve explainability, e.g., under the notion of \"cognitive AI\".',\n",
       " '[50] Likewise, ideas of cognitive NLP are inherent to neural models multimodal NLP (although rarely made explicit).',\n",
       " '[51]']"
      ]
     },
     "execution_count": 7,
     "metadata": {},
     "output_type": "execute_result"
    }
   ],
   "source": [
    "sentences"
   ]
  },
  {
   "cell_type": "code",
   "execution_count": 8,
   "id": "1338f36d",
   "metadata": {},
   "outputs": [
    {
     "data": {
      "text/plain": [
       "'Natural language processing (NLP) is an interdisciplinary subfield of linguistics, computer science, and artificial intelligence concerned with the interactions between computers and human language, in particular how to program computers to process and analyze large amounts of natural language data.'"
      ]
     },
     "execution_count": 8,
     "metadata": {},
     "output_type": "execute_result"
    }
   ],
   "source": [
    "sentences[0]"
   ]
  },
  {
   "cell_type": "code",
   "execution_count": 17,
   "id": "e27534e6",
   "metadata": {
    "scrolled": true
   },
   "outputs": [
    {
     "name": "stdout",
     "output_type": "stream",
     "text": [
      "\u001b[38;5;2m✔ Download and installation successful\u001b[0m\n",
      "You can now load the package via spacy.load('en_core_web_sm')\n"
     ]
    }
   ],
   "source": [
    "processed_sentences"
   ]
  },
  {
   "cell_type": "code",
   "execution_count": 18,
   "id": "33129963",
   "metadata": {},
   "outputs": [],
   "source": [
    "English_Model = spacy.load(\"en_core_web_sm\", disable = [\"ner\", \"parser\"])"
   ]
  },
  {
   "cell_type": "code",
   "execution_count": 19,
   "id": "db6e76fd",
   "metadata": {},
   "outputs": [],
   "source": [
    "def Process_Data(sentence):\n",
    "    sen = English_Model(sentence)\n",
    "    \n",
    "    temp = []\n",
    "    \n",
    "    for token in sen: \n",
    "        if not token.is_stop and not token.is_punct and not token.like_num and not token.is_space:\n",
    "            temp_word = token.lemma_\n",
    "            temp.append(temp_word.lower())\n",
    "            \n",
    "            \n",
    "    return \" \".join(temp)"
   ]
  },
  {
   "cell_type": "code",
   "execution_count": 20,
   "id": "405d0399",
   "metadata": {},
   "outputs": [],
   "source": [
    "processed_sentences = []\n",
    "\n",
    "for sentence in sentences:\n",
    "    processed_sentences.append(Process_Data(sentence))"
   ]
  },
  {
   "cell_type": "code",
   "execution_count": 21,
   "id": "bf56429c",
   "metadata": {},
   "outputs": [
    {
     "data": {
      "text/plain": [
       "['natural language processing nlp interdisciplinary subfield linguistic computer science artificial intelligence concern interaction computer human language particular program computer process analyze large amount natural language datum',\n",
       " 'goal computer capable understand content document include contextual nuance language',\n",
       " 'technology accurately extract information insight contain document categorize organize document',\n",
       " 'natural language processing root 1950s',\n",
       " 'alan turing publish article title computing machinery intelligence propose call ture test criterion intelligence time articulate problem separate artificial intelligence',\n",
       " 'propose test include task involve automate interpretation generation natural language',\n",
       " 'premise symbolic nlp summarize john searle chinese room experiment give collection rule e.g. chinese phrasebook question matching answer computer emulate natural language understanding nlp task apply rule datum confront',\n",
       " '1950 georgetown experiment involve fully automatic translation russian sentence english',\n",
       " 'author claim year machine translation solve problem',\n",
       " 'real progress slow alpac report find year long research fail fulfill expectation funding machine translation dramatically reduce',\n",
       " 'little research machine translation conduct late 1980 statistical machine translation system develop',\n",
       " '1960 notably successful natural language processing system develop 1960 shrdlu natural language system work restricted block world restricted vocabulary eliza simulation rogerian psychotherapist write joseph weizenbaum',\n",
       " 'information human thought emotion eliza provide startlingly human like interaction',\n",
       " 'patient exceed small knowledge base eliza provide generic response example respond head hurt head hurt',\n",
       " '1970 1970 programmer begin write conceptual ontology structure real world information computer understandable datum',\n",
       " 'example margie schank sam cullingford pam wilensky talespin meehan qualm lehnert politics carbonell plot units lehnert',\n",
       " 'time chatterbot write e.g. parry',\n",
       " '1980s 1980 early 1990 mark heyday symbolic method nlp',\n",
       " 'focus area time include research rule base parse e.g. development hpsg computational operationalization generative grammar morphology e.g. level morphology[3 semantic e.g. lesk algorithm reference e.g. centering theory[4 area natural language understanding e.g. rhetorical structure theory',\n",
       " 'line research continue e.g. development chatterbot racter jabberwacky',\n",
       " 'important development eventually lead statistical turn 1990s rise importance quantitative evaluation period',\n",
       " '1980 natural language processing system base complex set hand write rule',\n",
       " 'start late 1980 revolution natural language processing introduction machine learn algorithm language processing',\n",
       " 'steady increase computational power moore law gradual lessening dominance chomskyan theory linguistic e.g.',\n",
       " 'transformational grammar theoretical underpinning discourage sort corpus linguistic underlie machine learn approach language processing',\n",
       " '1990 notable early success statistical method nlp occur field machine translation especially work ibm research',\n",
       " 'system able advantage exist multilingual textual corpora produce parliament canada european union result law call translation governmental proceeding official language correspond system government',\n",
       " 'system depend corpora specifically develop task implement system continue major limitation success system',\n",
       " 'result great deal research go method effectively learn limited amount datum',\n",
       " '2000s growth web increase amount raw unannotated language datum available mid-1990',\n",
       " 'research increasingly focus unsupervised semi supervised learning algorithm',\n",
       " 'algorithm learn datum hand annotate desire answer combination annotated non annotated datum',\n",
       " 'generally task difficult supervised learning typically produce accurate result give input datum',\n",
       " 'enormous non annotated datum available include thing entire content world wide web inferior result algorithm low time complexity practical',\n",
       " '2010s representation learning deep neural network style machine learning method widespread natural language processing',\n",
       " 'popularity partly flurry result show techniques[7][8 achieve state art result natural language task e.g. language modeling[9 parse',\n",
       " '10][11 increasingly important medicine healthcare nlp help analyze note text electronic health record inaccessible study seek improve care',\n",
       " 'early day language processing system design symbolic method i.e. hand coding set rule couple dictionary lookup:[13][14 write grammar devise heuristic rule stem',\n",
       " 'recent system base machine learn algorithm advantage hand produce rule learn procedure machine learning automatically focus common case write rule hand obvious effort direct',\n",
       " 'automatic learning procedure use statistical inference algorithm produce model robust unfamiliar input e.g.',\n",
       " 'contain word structure see erroneous input e.g.',\n",
       " 'misspelled word word accidentally omit',\n",
       " 'generally handle input gracefully handwritten rule generally create system handwritten rule soft decision extremely difficult error prone time consume',\n",
       " 'systems base automatically learn rule accurate simply supply input datum',\n",
       " 'system base handwritten rule accurate increase complexity rule difficult task',\n",
       " 'particular limit complexity system base handwritten rule system unmanageable',\n",
       " 'create datum input machine learn system simply require corresponding increase number man hour work generally significant increase complexity annotation process',\n",
       " 'despite popularity machine learning nlp research symbolic method commonly training datum insufficient successfully apply machine learning method e.g. machine translation low resource language provide apertium system preprocesse nlp pipeline e.g. tokenization postprocesse transform output nlp pipeline e.g. knowledge extraction syntactic parse',\n",
       " 'call statistical revolution\"[15][16 late 1980 mid-1990 natural language processing research rely heavily machine learning',\n",
       " 'machine learn paradigm call instead statistical inference automatically learn rule analysis large corpora plural form corpus set document possibly human computer annotation typical real world example',\n",
       " 'different class machine learn algorithm apply natural language processing task',\n",
       " 'algorithm input large set feature generate input datum',\n",
       " 'increasingly research focus statistical model soft probabilistic decision base attach real value weight input feature complex value embeddings,[17 neural network general propose e.g.',\n",
       " 'speech[18',\n",
       " 'model advantage express relative certainty different possible answer produce reliable result model include component large system',\n",
       " 'early machine learning algorithm decision tree produce system hard rule similar exist hand write rule',\n",
       " 'speech tagging introduce use hidden markov model natural language processing increasingly research focus statistical model soft probabilistic decision base attach real value weight feature make input datum',\n",
       " 'cache language model speech recognition system rely example statistical model',\n",
       " 'model generally robust give unfamiliar input especially input contain error common real world datum produce reliable result integrate large system comprise multiple subtask',\n",
       " 'neural turn statistical method nlp research largely replace neural network',\n",
       " 'continue relevant context statistical interpretability transparency require',\n",
       " 'major drawback statistical method require elaborate feature engineering',\n",
       " '2015,[19 field largely abandon statistical method shift neural network machine learning',\n",
       " 'popular technique include use word embedding capture semantic property word increase end end learning high level task e.g. question answering instead rely pipeline separate intermediate task e.g. speech tagging dependency parsing',\n",
       " 'area shift entail substantial change nlp system design deep neural network base approach view new paradigm distinct statistical natural language processing',\n",
       " 'instance term neural machine translation nmt emphasize fact deep learning base approach machine translation directly learn sequence sequence transformation obviate need intermediate step word alignment language modeling statistical machine translation smt',\n",
       " 'following list commonly research task natural language processing',\n",
       " 'task direct real world application commonly serve subtask aid solve large task',\n",
       " 'natural language processing task closely intertwine subdivide category convenience',\n",
       " 'coarse division give',\n",
       " 'base long stand trend field possible extrapolate future direction nlp',\n",
       " 'trend topic long stand series conll shared tasks observed:[40 increase interest multilinguality potentially multimodality english spanish dutch german bulgarian danish japanese portuguese slovenian swedish turkish basque catalan chinese greek hungarian italian turkish czech arabic + language 60+/100 + language elimination symbolic representation rule base supervise weakly supervise method representation learning end end system high level nlp application involve aspect emulate intelligent behaviour apparent comprehension natural language',\n",
       " 'broadly speak technical operationalization increasingly advanced aspect cognitive behaviour represent developmental trajectory nlp trend conll share task',\n",
       " 'cognition refer mental action process acquire knowledge understanding thought experience sense',\n",
       " 'cognitive science interdisciplinary scientific study mind process',\n",
       " 'cognitive linguistic interdisciplinary branch linguistic combine knowledge research psychology linguistic',\n",
       " 'especially age symbolic nlp area computational linguistic maintain strong tie cognitive study',\n",
       " 'example george lakoff offer methodology build natural language processing nlp algorithm perspective cognitive science finding cognitive linguistics,[44 define aspect apply theory conceptual metaphor explain lakoff understanding idea term provide idea intent author',\n",
       " 'example consider english word big',\n",
       " 'comparison big tree author intent imply tree physically large relative tree author experience',\n",
       " 'metaphorically tomorrow big day author intent imply importance',\n",
       " 'intent usage like big person remain somewhat ambiguous person cognitive nlp algorithm alike additional information',\n",
       " 'assign relative measure meaning word phrase sentence piece text base information present piece text analyze e.g. mean probabilistic context free grammar pcfg',\n",
       " 'mathematical equation algorithm present tie cognitive linguistic historical heritage nlp frequently address statistical turn 1990s',\n",
       " 'approach develop cognitive model technically operationalizable framework pursue context framework e.g. cognitive grammar,[46 functional grammar,[47 construction grammar,[48 computational psycholinguistic cognitive neuroscience e.g. act r limited uptake mainstream nlp measure presence major conferences[49 acl',\n",
       " 'recently idea cognitive nlp revive approach achieve explainability e.g. notion cognitive ai',\n",
       " 'likewise idea cognitive nlp inherent neural model multimodal nlp rarely explicit',\n",
       " '']"
      ]
     },
     "execution_count": 21,
     "metadata": {},
     "output_type": "execute_result"
    }
   ],
   "source": [
    "processed_sentences"
   ]
  },
  {
   "cell_type": "code",
   "execution_count": 23,
   "id": "a2fd8dc8",
   "metadata": {},
   "outputs": [
    {
     "data": {
      "text/plain": [
       "88"
      ]
     },
     "execution_count": 23,
     "metadata": {},
     "output_type": "execute_result"
    }
   ],
   "source": [
    "len(processed_sentences)"
   ]
  },
  {
   "cell_type": "markdown",
   "id": "8aa0ce00",
   "metadata": {},
   "source": [
    "# Bag of Words/Count Vectorization Creation!"
   ]
  },
  {
   "cell_type": "code",
   "execution_count": 24,
   "id": "8a17e0d8",
   "metadata": {},
   "outputs": [],
   "source": [
    "from sklearn.feature_extraction.text import CountVectorizer"
   ]
  },
  {
   "cell_type": "code",
   "execution_count": 25,
   "id": "29807ab8",
   "metadata": {},
   "outputs": [],
   "source": [
    "vectorizer = CountVectorizer()"
   ]
  },
  {
   "cell_type": "code",
   "execution_count": 26,
   "id": "d8479b04",
   "metadata": {},
   "outputs": [],
   "source": [
    "vectorized_sentences = vectorizer.fit_transform(processed_sentences)"
   ]
  },
  {
   "cell_type": "code",
   "execution_count": 41,
   "id": "d6e0fdc1",
   "metadata": {},
   "outputs": [
    {
     "name": "stdout",
     "output_type": "stream",
     "text": [
      "  (0, 377)\t2\n",
      "  (0, 318)\t3\n",
      "  (0, 443)\t1\n",
      "  (0, 383)\t1\n",
      "  (0, 302)\t1\n",
      "  (0, 547)\t1\n",
      "  (0, 336)\t1\n",
      "  (0, 124)\t3\n",
      "  (0, 499)\t1\n",
      "  (0, 69)\t1\n",
      "  (0, 298)\t1\n",
      "  (0, 127)\t1\n",
      "  (0, 301)\t1\n",
      "  (0, 274)\t1\n",
      "  (0, 410)\t1\n",
      "  (0, 445)\t1\n",
      "  (0, 442)\t1\n",
      "  (0, 53)\t1\n",
      "  (0, 319)\t1\n",
      "  (0, 51)\t1\n",
      "  (0, 151)\t1\n",
      "  (1, 318)\t1\n",
      "  (1, 124)\t1\n",
      "  (1, 248)\t1\n",
      "  (1, 91)\t1\n",
      "  :\t:\n",
      "  (84, 345)\t1\n",
      "  (84, 436)\t1\n",
      "  (84, 129)\t1\n",
      "  (84, 26)\t1\n",
      "  (84, 34)\t1\n",
      "  (85, 383)\t1\n",
      "  (85, 63)\t1\n",
      "  (85, 33)\t1\n",
      "  (85, 111)\t2\n",
      "  (85, 278)\t1\n",
      "  (85, 465)\t1\n",
      "  (85, 487)\t1\n",
      "  (85, 212)\t1\n",
      "  (85, 389)\t1\n",
      "  (85, 43)\t1\n",
      "  (86, 383)\t2\n",
      "  (86, 380)\t1\n",
      "  (86, 368)\t1\n",
      "  (86, 111)\t1\n",
      "  (86, 278)\t1\n",
      "  (86, 331)\t1\n",
      "  (86, 291)\t1\n",
      "  (86, 374)\t1\n",
      "  (86, 461)\t1\n",
      "  (86, 213)\t1\n"
     ]
    }
   ],
   "source": [
    "\n",
    "print(vectorized_sentences)"
   ]
  },
  {
   "cell_type": "code",
   "execution_count": 39,
   "id": "c471fb7c",
   "metadata": {},
   "outputs": [
    {
     "data": {
      "text/plain": [
       "<88x629 sparse matrix of type '<class 'numpy.int64'>'\n",
       "\twith 1227 stored elements in Compressed Sparse Row format>"
      ]
     },
     "execution_count": 39,
     "metadata": {},
     "output_type": "execute_result"
    }
   ],
   "source": [
    "vectorized_sentences"
   ]
  },
  {
   "cell_type": "code",
   "execution_count": 28,
   "id": "1de712ca",
   "metadata": {},
   "outputs": [
    {
     "data": {
      "text/plain": [
       "(88, 629)"
      ]
     },
     "execution_count": 28,
     "metadata": {},
     "output_type": "execute_result"
    }
   ],
   "source": [
    "6\n",
    "vectorized_sentences.toarray().shape"
   ]
  },
  {
   "cell_type": "code",
   "execution_count": 46,
   "id": "e329231a",
   "metadata": {
    "scrolled": true
   },
   "outputs": [
    {
     "data": {
      "text/plain": [
       "array([0, 0, 0, 0, 0, 0, 0, 0, 0, 0, 0, 0, 0, 0, 0, 0, 0, 0, 0, 0, 0, 0,\n",
       "       0, 0, 0, 0, 0, 0, 0, 0, 0, 0, 0, 0, 0, 0, 0, 0, 0, 0, 0, 0, 0, 0,\n",
       "       0, 0, 0, 0, 0, 0, 0, 1, 0, 1, 0, 0, 0, 0, 0, 0, 0, 0, 0, 0, 0, 0,\n",
       "       0, 0, 0, 1, 0, 0, 0, 0, 0, 0, 0, 0, 0, 0, 0, 0, 0, 0, 0, 0, 0, 0,\n",
       "       0, 0, 0, 0, 0, 0, 0, 0, 0, 0, 0, 0, 0, 0, 0, 0, 0, 0, 0, 0, 0, 0,\n",
       "       0, 0, 0, 0, 0, 0, 0, 0, 0, 0, 0, 0, 0, 0, 3, 0, 0, 1, 0, 0, 0, 0,\n",
       "       0, 0, 0, 0, 0, 0, 0, 0, 0, 0, 0, 0, 0, 0, 0, 0, 0, 0, 0, 1, 0, 0,\n",
       "       0, 0, 0, 0, 0, 0, 0, 0, 0, 0, 0, 0, 0, 0, 0, 0, 0, 0, 0, 0, 0, 0,\n",
       "       0, 0, 0, 0, 0, 0, 0, 0, 0, 0, 0, 0, 0, 0, 0, 0, 0, 0, 0, 0, 0, 0,\n",
       "       0, 0, 0, 0, 0, 0, 0, 0, 0, 0, 0, 0, 0, 0, 0, 0, 0, 0, 0, 0, 0, 0,\n",
       "       0, 0, 0, 0, 0, 0, 0, 0, 0, 0, 0, 0, 0, 0, 0, 0, 0, 0, 0, 0, 0, 0,\n",
       "       0, 0, 0, 0, 0, 0, 0, 0, 0, 0, 0, 0, 0, 0, 0, 0, 0, 0, 0, 0, 0, 0,\n",
       "       0, 0, 0, 0, 0, 0, 0, 0, 0, 0, 1, 0, 0, 0, 0, 0, 0, 0, 0, 0, 0, 0,\n",
       "       0, 0, 0, 0, 0, 0, 0, 0, 0, 0, 0, 0, 1, 0, 0, 1, 1, 0, 0, 0, 0, 0,\n",
       "       0, 0, 0, 0, 0, 0, 0, 0, 0, 0, 3, 1, 0, 0, 0, 0, 0, 0, 0, 0, 0, 0,\n",
       "       0, 0, 0, 0, 0, 0, 1, 0, 0, 0, 0, 0, 0, 0, 0, 0, 0, 0, 0, 0, 0, 0,\n",
       "       0, 0, 0, 0, 0, 0, 0, 0, 0, 0, 0, 0, 0, 0, 0, 0, 0, 0, 0, 0, 0, 0,\n",
       "       0, 0, 0, 2, 0, 0, 0, 0, 0, 1, 0, 0, 0, 0, 0, 0, 0, 0, 0, 0, 0, 0,\n",
       "       0, 0, 0, 0, 0, 0, 0, 0, 0, 0, 0, 0, 0, 0, 1, 0, 0, 0, 0, 0, 0, 0,\n",
       "       0, 0, 0, 0, 0, 0, 0, 0, 0, 0, 0, 0, 0, 0, 0, 0, 0, 0, 0, 0, 0, 0,\n",
       "       0, 0, 1, 1, 0, 1, 0, 0, 0, 0, 0, 0, 0, 0, 0, 0, 0, 0, 0, 0, 0, 0,\n",
       "       0, 0, 0, 0, 0, 0, 0, 0, 0, 0, 0, 0, 0, 0, 0, 0, 0, 0, 0, 0, 0, 0,\n",
       "       0, 0, 0, 0, 0, 0, 0, 0, 0, 0, 0, 0, 0, 0, 0, 1, 0, 0, 0, 0, 0, 0,\n",
       "       0, 0, 0, 0, 0, 0, 0, 0, 0, 0, 0, 0, 0, 0, 0, 0, 0, 0, 0, 0, 0, 0,\n",
       "       0, 0, 0, 0, 0, 0, 0, 0, 0, 0, 0, 0, 0, 0, 0, 0, 0, 0, 0, 1, 0, 0,\n",
       "       0, 0, 0, 0, 0, 0, 0, 0, 0, 0, 0, 0, 0, 0, 0, 0, 0, 0, 0, 0, 0, 0,\n",
       "       0, 0, 0, 0, 0, 0, 0, 0, 0, 0, 0, 0, 0, 0, 0, 0, 0, 0, 0, 0, 0, 0,\n",
       "       0, 0, 0, 0, 0, 0, 0, 0, 0, 0, 0, 0, 0, 0, 0, 0, 0, 0, 0, 0, 0, 0,\n",
       "       0, 0, 0, 0, 0, 0, 0, 0, 0, 0, 0, 0, 0], dtype=int64)"
      ]
     },
     "execution_count": 46,
     "metadata": {},
     "output_type": "execute_result"
    }
   ],
   "source": [
    "vectorized_sentences.toarray()[0]"
   ]
  },
  {
   "cell_type": "raw",
   "id": "23715c91",
   "metadata": {},
   "source": [
    "processed_sentences[0]"
   ]
  },
  {
   "cell_type": "code",
   "execution_count": 31,
   "id": "866df648",
   "metadata": {},
   "outputs": [
    {
     "name": "stderr",
     "output_type": "stream",
     "text": [
      "C:\\Users\\Acer pc\\anaconda3\\lib\\site-packages\\sklearn\\utils\\deprecation.py:87: FutureWarning: Function get_feature_names is deprecated; get_feature_names is deprecated in 1.0 and will be removed in 1.2. Please use get_feature_names_out instead.\n",
      "  warnings.warn(msg, category=FutureWarning)\n"
     ]
    },
    {
     "data": {
      "text/plain": [
       "629"
      ]
     },
     "execution_count": 31,
     "metadata": {},
     "output_type": "execute_result"
    }
   ],
   "source": [
    "# Getting the unique features/words\n",
    "len(vectorizer.get_feature_names())"
   ]
  },
  {
   "cell_type": "code",
   "execution_count": 32,
   "id": "79261834",
   "metadata": {},
   "outputs": [],
   "source": [
    "import numpy as np"
   ]
  },
  {
   "cell_type": "code",
   "execution_count": 33,
   "id": "458dbe18",
   "metadata": {},
   "outputs": [
    {
     "data": {
      "text/plain": [
       "(array([0, 1, 2, 3], dtype=int64), array([608,  18,   1,   2], dtype=int64))"
      ]
     },
     "execution_count": 33,
     "metadata": {},
     "output_type": "execute_result"
    }
   ],
   "source": [
    "np.unique(vectorized_sentences.toarray()[0], return_counts = True)\n"
   ]
  },
  {
   "cell_type": "code",
   "execution_count": 34,
   "id": "86083c04",
   "metadata": {},
   "outputs": [
    {
     "name": "stdout",
     "output_type": "stream",
     "text": [
      "124\n",
      "318\n",
      "377\n"
     ]
    }
   ],
   "source": [
    "# length bata rah hia neche wala\n",
    "for i in range(len(vectorized_sentences.toarray()[0])):\n",
    "    if vectorized_sentences.toarray()[0][i] == 3:\n",
    "        print(i)\n",
    "        \n",
    "for i in range(len(vectorized_sentences.toarray()[0])):\n",
    "    if vectorized_sentences.toarray()[0][i] == 2:\n",
    "        print(i)"
   ]
  },
  {
   "cell_type": "code",
   "execution_count": 36,
   "id": "a49c8ea5",
   "metadata": {},
   "outputs": [
    {
     "data": {
      "text/plain": [
       "('computational', 'knowledge', 'multimodal')"
      ]
     },
     "execution_count": 36,
     "metadata": {},
     "output_type": "execute_result"
    }
   ],
   "source": [
    "vectorizer.get_feature_names()[123], vectorizer.get_feature_names()[316], vectorizer.get_feature_names()[374]\n"
   ]
  },
  {
   "cell_type": "code",
   "execution_count": null,
   "id": "fe1c8356",
   "metadata": {},
   "outputs": [],
   "source": [
    "#sentiment analaysis kar sakte hai\n"
   ]
  }
 ],
 "metadata": {
  "kernelspec": {
   "display_name": "Python 3 (ipykernel)",
   "language": "python",
   "name": "python3"
  },
  "language_info": {
   "codemirror_mode": {
    "name": "ipython",
    "version": 3
   },
   "file_extension": ".py",
   "mimetype": "text/x-python",
   "name": "python",
   "nbconvert_exporter": "python",
   "pygments_lexer": "ipython3",
   "version": "3.9.12"
  }
 },
 "nbformat": 4,
 "nbformat_minor": 5
}
