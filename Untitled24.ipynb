{
 "cells": [
  {
   "cell_type": "code",
   "execution_count": 1,
   "id": "cca62680",
   "metadata": {},
   "outputs": [
    {
     "ename": "SyntaxError",
     "evalue": "invalid character '“' (U+201C) (4264375227.py, line 4)",
     "output_type": "error",
     "traceback": [
      "\u001b[1;36m  File \u001b[1;32m\"C:\\Users\\Acer pc\\AppData\\Local\\Temp\\ipykernel_16516\\4264375227.py\"\u001b[1;36m, line \u001b[1;32m4\u001b[0m\n\u001b[1;33m    txt=open(“dummy.txt”) # path of your text file\u001b[0m\n\u001b[1;37m             ^\u001b[0m\n\u001b[1;31mSyntaxError\u001b[0m\u001b[1;31m:\u001b[0m invalid character '“' (U+201C)\n"
     ]
    }
   ],
   "source": [
    "#Importing Library\n",
    "from PIL import Image\n",
    "#Open the text file which you have to convert into handwriting\n",
    "txt=open(“dummy.txt”) # path of your text file\n",
    "#path of page(background)photo (I have used blank page)\n",
    "BG=Image.open(“myfont/bg.png”) \n",
    "sheet_width=BG.width\n",
    "gap, ht = 0, 0\n",
    "\n",
    "for i in txt.read().replace(“\\n”,””):\n",
    "    cases = Image.open(“myfont/{}.png”.format(str(ord(i))))\n",
    "    BG.paste(cases, (gap, ht))\n",
    "    size = cases.width\n",
    "    height=cases.height\n",
    "    #print(size)\n",
    "    gap+=size\n",
    "    if sheet_width < gap or len(i)*115 >(sheet_width-gap):\n",
    "        gap,ht=0,ht+140\n",
    "print(gap)\n",
    "print(sheet_width)\n",
    "BG.show()"
   ]
  },
  {
   "cell_type": "code",
   "execution_count": null,
   "id": "5e4c7c31",
   "metadata": {},
   "outputs": [],
   "source": []
  }
 ],
 "metadata": {
  "kernelspec": {
   "display_name": "Python 3 (ipykernel)",
   "language": "python",
   "name": "python3"
  },
  "language_info": {
   "codemirror_mode": {
    "name": "ipython",
    "version": 3
   },
   "file_extension": ".py",
   "mimetype": "text/x-python",
   "name": "python",
   "nbconvert_exporter": "python",
   "pygments_lexer": "ipython3",
   "version": "3.9.13"
  }
 },
 "nbformat": 4,
 "nbformat_minor": 5
}
