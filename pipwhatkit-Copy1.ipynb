{
 "cells": [
  {
   "cell_type": "markdown",
   "id": "5071421a",
   "metadata": {},
   "source": [
    "pip install pywhatkit"
   ]
  },
  {
   "cell_type": "code",
   "execution_count": null,
   "id": "adee2448",
   "metadata": {},
   "outputs": [],
   "source": [
    "import pywhatkit\n",
    "\n",
    "# Send a WhatsApp Message to a Contact at 22:59 PM\n",
    "pywhatkit.sendwhatmsg(\"+919990091106\", \"Hi\", 10,55)"
   ]
  },
  {
   "cell_type": "code",
   "execution_count": null,
   "id": "df8e1911",
   "metadata": {},
   "outputs": [
    {
     "name": "stdout",
     "output_type": "stream",
     "text": [
      "In 44 Seconds WhatsApp will open and after 15 Seconds Message will be Delivered!\n"
     ]
    }
   ],
   "source": [
    "# Same as above but Closes the Tab in 2 Seconds after Sending the Message\n",
    "pywhatkit.sendwhatmsg(\"+919990091106\", \"Hi2\", 23, 16, 15, True, 2)\n",
    "\n"
   ]
  },
  {
   "cell_type": "code",
   "execution_count": 7,
   "id": "b419e3f9",
   "metadata": {},
   "outputs": [],
   "source": [
    "pywhatkit.sendwhatmsg_to_group_instantly(\"files\", \"Hey All!\")"
   ]
  },
  {
   "cell_type": "code",
   "execution_count": 2,
   "id": "e6d97de8",
   "metadata": {},
   "outputs": [
    {
     "name": "stdout",
     "output_type": "stream",
     "text": [
      "Collecting pywhatkit\n",
      "  Using cached pywhatkit-5.4-py3-none-any.whl (15 kB)\n",
      "Requirement already satisfied: Flask in c:\\users\\acer pc\\anaconda3\\lib\\site-packages (from pywhatkit) (1.1.2)\n",
      "Requirement already satisfied: requests in c:\\users\\acer pc\\anaconda3\\lib\\site-packages (from pywhatkit) (2.28.1)\n",
      "Collecting pyautogui\n",
      "  Using cached PyAutoGUI-0.9.53-py3-none-any.whl\n",
      "Collecting wikipedia\n",
      "  Using cached wikipedia-1.4.0-py3-none-any.whl\n",
      "Requirement already satisfied: Pillow in c:\\users\\acer pc\\anaconda3\\lib\\site-packages (from pywhatkit) (9.2.0)\n",
      "Requirement already satisfied: Jinja2>=2.10.1 in c:\\users\\acer pc\\anaconda3\\lib\\site-packages (from Flask->pywhatkit) (2.11.3)\n",
      "Requirement already satisfied: Werkzeug>=0.15 in c:\\users\\acer pc\\anaconda3\\lib\\site-packages (from Flask->pywhatkit) (2.0.3)\n",
      "Requirement already satisfied: click>=5.1 in c:\\users\\acer pc\\anaconda3\\lib\\site-packages (from Flask->pywhatkit) (8.0.4)\n",
      "Requirement already satisfied: itsdangerous>=0.24 in c:\\users\\acer pc\\anaconda3\\lib\\site-packages (from Flask->pywhatkit) (2.0.1)\n",
      "Collecting pygetwindow>=0.0.5\n",
      "  Using cached PyGetWindow-0.0.9-py3-none-any.whl\n",
      "Collecting pymsgbox\n",
      "  Using cached PyMsgBox-1.0.9-py3-none-any.whl\n",
      "Collecting PyTweening>=1.0.1\n",
      "  Using cached pytweening-1.0.4-py3-none-any.whl\n",
      "Collecting pyscreeze>=0.1.21\n",
      "  Using cached PyScreeze-0.1.28-py3-none-any.whl\n",
      "Collecting mouseinfo\n",
      "  Using cached MouseInfo-0.1.3-py3-none-any.whl\n",
      "Requirement already satisfied: idna<4,>=2.5 in c:\\users\\acer pc\\anaconda3\\lib\\site-packages (from requests->pywhatkit) (3.3)\n",
      "Requirement already satisfied: certifi>=2017.4.17 in c:\\users\\acer pc\\anaconda3\\lib\\site-packages (from requests->pywhatkit) (2022.9.14)\n",
      "Requirement already satisfied: charset-normalizer<3,>=2 in c:\\users\\acer pc\\anaconda3\\lib\\site-packages (from requests->pywhatkit) (2.0.4)\n",
      "Requirement already satisfied: urllib3<1.27,>=1.21.1 in c:\\users\\acer pc\\anaconda3\\lib\\site-packages (from requests->pywhatkit) (1.26.11)\n",
      "Requirement already satisfied: beautifulsoup4 in c:\\users\\acer pc\\anaconda3\\lib\\site-packages (from wikipedia->pywhatkit) (4.11.1)\n",
      "Requirement already satisfied: colorama in c:\\users\\acer pc\\anaconda3\\lib\\site-packages (from click>=5.1->Flask->pywhatkit) (0.4.5)\n",
      "Requirement already satisfied: MarkupSafe>=0.23 in c:\\users\\acer pc\\anaconda3\\lib\\site-packages (from Jinja2>=2.10.1->Flask->pywhatkit) (2.0.1)\n",
      "Collecting pyrect\n",
      "  Using cached PyRect-0.2.0-py2.py3-none-any.whl\n",
      "Requirement already satisfied: soupsieve>1.2 in c:\\users\\acer pc\\anaconda3\\lib\\site-packages (from beautifulsoup4->wikipedia->pywhatkit) (2.3.1)\n",
      "Collecting pyperclip\n",
      "  Using cached pyperclip-1.8.2-py3-none-any.whl\n",
      "Installing collected packages: PyTweening, pyscreeze, pyrect, pyperclip, pymsgbox, pygetwindow, mouseinfo, wikipedia, pyautogui, pywhatkit\n",
      "Successfully installed PyTweening-1.0.4 mouseinfo-0.1.3 pyautogui-0.9.53 pygetwindow-0.0.9 pymsgbox-1.0.9 pyperclip-1.8.2 pyrect-0.2.0 pyscreeze-0.1.28 pywhatkit-5.4 wikipedia-1.4.0\n",
      "Note: you may need to restart the kernel to use updated packages.\n"
     ]
    }
   ],
   "source": [
    "pip install pywhatkit"
   ]
  },
  {
   "cell_type": "code",
   "execution_count": 7,
   "id": "3108b61a",
   "metadata": {},
   "outputs": [
    {
     "name": "stdout",
     "output_type": "stream",
     "text": [
      "In 43 Seconds WhatsApp will open and after 15 Seconds Message will be Delivered!\n"
     ]
    }
   ],
   "source": [
    "import pywhatkit\n",
    "\n",
    "\n",
    "pywhatkit.sendwhatmsg(\"+918700669213\", \"Hi\", 10,57)"
   ]
  },
  {
   "cell_type": "code",
   "execution_count": null,
   "id": "91f46aec",
   "metadata": {},
   "outputs": [],
   "source": []
  }
 ],
 "metadata": {
  "kernelspec": {
   "display_name": "Python 3 (ipykernel)",
   "language": "python",
   "name": "python3"
  },
  "language_info": {
   "codemirror_mode": {
    "name": "ipython",
    "version": 3
   },
   "file_extension": ".py",
   "mimetype": "text/x-python",
   "name": "python",
   "nbconvert_exporter": "python",
   "pygments_lexer": "ipython3",
   "version": "3.9.13"
  }
 },
 "nbformat": 4,
 "nbformat_minor": 5
}
