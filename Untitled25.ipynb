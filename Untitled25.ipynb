{
 "cells": [
  {
   "cell_type": "code",
   "execution_count": 27,
   "id": "1f77409f",
   "metadata": {},
   "outputs": [
    {
     "ename": "SyntaxError",
     "evalue": "(unicode error) 'unicodeescape' codec can't decode bytes in position 2-3: truncated \\UXXXXXXXX escape (25180972.py, line 21)",
     "output_type": "error",
     "traceback": [
      "\u001b[1;36m  File \u001b[1;32m\"C:\\Users\\Acer pc\\AppData\\Local\\Temp\\ipykernel_2624\\25180972.py\"\u001b[1;36m, line \u001b[1;32m21\u001b[0m\n\u001b[1;33m    BG=Image.open(\"C:\\Users\\Acer pc\\Downloads\\New folder\\blank.png\") #path of page(background)photo (I have used blank page)\u001b[0m\n\u001b[1;37m                                                                   ^\u001b[0m\n\u001b[1;31mSyntaxError\u001b[0m\u001b[1;31m:\u001b[0m (unicode error) 'unicodeescape' codec can't decode bytes in position 2-3: truncated \\UXXXXXXXX escape\n"
     ]
    }
   ],
   "source": [
    "#Importing Library\n",
    "from PIL import Image\n",
    "from sys import argv\n",
    "\n",
    "\n",
    "# if you'd rather not use the command line, put the path to your file here\n",
    "fileName = r\"C:\\Users\\Acer pc\\Downloads\\New folder\\test.txt\" # path of your text file\n",
    "\n",
    "# read file that user wants converted from command line. If file can't be read, assign \n",
    "# the file to a file in the directory\n",
    "try:\n",
    "    txt=open(argv[1], \"r\")\n",
    "except IndexError:\n",
    "    print(\"No file entered. Using default file...\")\n",
    "    txt=open(fileName, \"r\")\n",
    "except FileNotFoundError:\n",
    "    print(\"Could not find file. Using default file...\")\n",
    "    txt=open(fileName, \"r\")   \n",
    "\n",
    "\n",
    "BG=Image.open(\"C:\\Users\\Acer pc\\Downloads\\New folder\\blank.png\") #path of page(background)photo (I have used blank page)\n",
    "sheet_width=BG.width\n",
    "gap, ht = 0, 0\n",
    "\n",
    "\n",
    "# for each letter in the uploaded txt file, read the unicode value and replace it with\n",
    "# the corresponding handwritten file in the \"myfont\" folder.\n",
    "for i in txt.read().replace(\"\\n\",\"\"):\n",
    "        cases = Image.open(r\"C:\\Users\\Acer pc\\Downloads\\New folder\\New folder/{}.png\".format(str(ord(i))))\n",
    "        BG.paste(cases, (gap, ht))\n",
    "        size = cases.width\n",
    "        height=cases.height\n",
    "        #print(size)\n",
    "        print(\"Running...........\")\n",
    "        gap+=size\n",
    "\n",
    "        if sheet_width < gap or len(i)*115 >(sheet_width-gap):\n",
    "            gap,ht=0,ht+140\n",
    "\n",
    "print(gap)\n",
    "print(sheet_width)\n",
    "BG.show()\n"
   ]
  },
  {
   "cell_type": "code",
   "execution_count": 4,
   "id": "69fbaff8",
   "metadata": {},
   "outputs": [
    {
     "data": {
      "text/plain": [
       "array([[[ 84,  91, 124],\n",
       "        [ 83,  89, 124],\n",
       "        [ 82,  89, 128],\n",
       "        ...,\n",
       "        [172, 160, 150],\n",
       "        [174, 158, 151],\n",
       "        [174, 158, 151]],\n",
       "\n",
       "       [[ 95, 100, 131],\n",
       "        [ 91,  98, 131],\n",
       "        [ 91,  97, 134],\n",
       "        ...,\n",
       "        [172, 160, 150],\n",
       "        [174, 158, 151],\n",
       "        [174, 158, 151]],\n",
       "\n",
       "       [[100, 104, 132],\n",
       "        [ 97, 101, 130],\n",
       "        [ 96,  98, 132],\n",
       "        ...,\n",
       "        [172, 160, 150],\n",
       "        [174, 158, 151],\n",
       "        [174, 158, 151]],\n",
       "\n",
       "       ...,\n",
       "\n",
       "       [[ 37,  32,  31],\n",
       "        [ 36,  31,  30],\n",
       "        [ 36,  31,  30],\n",
       "        ...,\n",
       "        [ 20,  20,  20],\n",
       "        [ 22,  20,  20],\n",
       "        [ 22,  20,  20]],\n",
       "\n",
       "       [[ 34,  29,  28],\n",
       "        [ 35,  30,  29],\n",
       "        [ 36,  31,  30],\n",
       "        ...,\n",
       "        [ 20,  20,  20],\n",
       "        [ 22,  20,  20],\n",
       "        [ 22,  20,  20]],\n",
       "\n",
       "       [[ 34,  29,  28],\n",
       "        [ 35,  30,  29],\n",
       "        [ 37,  32,  31],\n",
       "        ...,\n",
       "        [ 20,  20,  20],\n",
       "        [ 22,  20,  20],\n",
       "        [ 22,  20,  20]]], dtype=uint8)"
      ]
     },
     "execution_count": 4,
     "metadata": {},
     "output_type": "execute_result"
    }
   ],
   "source": [
    "img"
   ]
  },
  {
   "cell_type": "code",
   "execution_count": 5,
   "id": "6a83d5de",
   "metadata": {},
   "outputs": [],
   "source": [
    "# Convert the image to grayscale\n",
    "gray = cv2.cvtColor(img, cv2.COLOR_BGR2GRAY)\n",
    "\n",
    "# Apply thresholding to convert the grayscale image to a binary image\n",
    "ret, thresh = cv2.threshold(gray, 0, 255, cv2.THRESH_BINARY_INV + cv2.THRESH_OTSU)\n",
    "\n"
   ]
  },
  {
   "cell_type": "code",
   "execution_count": 6,
   "id": "144c81a1",
   "metadata": {},
   "outputs": [
    {
     "data": {
      "text/plain": [
       "array([[100,  99, 100, ..., 158, 158, 158],\n",
       "       [109, 107, 107, ..., 158, 158, 158],\n",
       "       [112, 109, 108, ..., 158, 158, 158],\n",
       "       ...,\n",
       "       [ 32,  31,  31, ...,  20,  20,  20],\n",
       "       [ 29,  30,  31, ...,  20,  20,  20],\n",
       "       [ 29,  30,  32, ...,  20,  20,  20]], dtype=uint8)"
      ]
     },
     "execution_count": 6,
     "metadata": {},
     "output_type": "execute_result"
    }
   ],
   "source": [
    "gray"
   ]
  },
  {
   "cell_type": "code",
   "execution_count": 7,
   "id": "72ccf370",
   "metadata": {},
   "outputs": [],
   "source": [
    "# Find contours in the binary image\n",
    "contours, hierarchy = cv2.findContours(thresh, cv2.RETR_EXTERNAL, cv2.CHAIN_APPROX_SIMPLE)\n",
    "\n",
    "\n"
   ]
  },
  {
   "cell_type": "code",
   "execution_count": 8,
   "id": "f1928bc4",
   "metadata": {},
   "outputs": [],
   "source": [
    "# Create a folder to store the extracted letters\n",
    "if not os.path.exists('letters'):\n",
    "    os.makedirs('letters')\n",
    "\n",
    "# Loop over each contour\n",
    "for i, contour in enumerate(contours):\n",
    "    # Get the bounding box of the contour\n",
    "    (x, y, w, h) = cv2.boundingRect(contour)\n",
    "    \n",
    "    # Crop the contour from the original image\n",
    "    letter = img[y:y+h, x:x+w]\n",
    "    \n",
    "    # Resize the letter to 28x28 pixels\n",
    "    letter = cv2.resize(letter, (28, 28))\n",
    "    \n",
    "    # Convert the letter to grayscale\n",
    "    letter = cv2.cvtColor(letter, cv2.COLOR_BGR2GRAY)\n",
    "    \n",
    "    # Apply thresholding to the letter\n",
    "    ret, letter = cv2.threshold(letter, 0, 255, cv2.THRESH_BINARY_INV + cv2.THRESH_OTSU)\n",
    "    \n",
    "    # Save the letter as a PNG file with its ASCII value as the filename\n",
    "    filename = 'letters/{}.png'.format(ord(chr(i+97)))\n",
    "    cv2.imwrite(filename, letter)"
   ]
  },
  {
   "cell_type": "code",
   "execution_count": 14,
   "id": "6e48faf2",
   "metadata": {},
   "outputs": [],
   "source": [
    "import cv2\n",
    "import os\n",
    "\n",
    "# Load the handwritten image\n",
    "img = cv2.imread(r\"C:\\Users\\Acer pc\\Downloads\\New folder\\IMG20230428192444.jpg\")\n",
    "\n",
    "# Convert the image to grayscale\n",
    "gray = cv2.cvtColor(img, cv2.COLOR_BGR2GRAY)\n",
    "\n",
    "# Apply thresholding to convert the grayscale image to a binary image\n",
    "ret, thresh = cv2.threshold(gray, 0, 255, cv2.THRESH_BINARY_INV + cv2.THRESH_OTSU)\n",
    "\n",
    "# Find contours in the binary image\n",
    "contours, hierarchy = cv2.findContours(thresh, cv2.RETR_EXTERNAL, cv2.CHAIN_APPROX_SIMPLE)\n",
    "\n",
    "# Create a folder to store the extracted letters (if it does not exist)\n",
    "# Create a folder on the desktop to store the extracted letters (if it does not exist)\n",
    "if not os.path.exists(r'C:\\Users\\Acer pc\\Downloads\\New folder'):\n",
    "    os.makedirs(r'C:\\Users\\Acer pc\\Downloads\\New folder')\n",
    "    \n",
    "# Save the letter as a PNG file with its ASCII value as the filename\n",
    "filename = r'C:\\Users\\Acer pc\\Downloads\\New folder\\/{}.png'.format(ord(chr(i+97)))\n",
    "cv2.imwrite(filename, letter)\n",
    "\n",
    "# Loop over each contour\n",
    "for i, contour in enumerate(contours):\n",
    "    # Get the bounding box of the contour\n",
    "    (x, y, w, h) = cv2.boundingRect(contour)\n",
    "    \n",
    "    # Crop the contour from the original image\n",
    "    letter = img[y:y+h, x:x+w]\n",
    "    \n",
    "    # Resize the letter to 28x28 pixels\n",
    "    letter = cv2.resize(letter, (28, 28))\n",
    "    \n",
    "    # Convert the letter to grayscale\n",
    "    letter = cv2.cvtColor(letter, cv2.COLOR_BGR2GRAY)\n",
    "    \n",
    "    # Apply thresholding to the letter\n",
    "    ret, letter = cv2.threshold(letter, 0, 255, cv2.THRESH_BINARY_INV + cv2.THRESH_OTSU)\n",
    "    \n",
    "    # Save the letter as a PNG file with its ASCII value as the filename\n",
    "    filename = 'letters/{}.png'.format(ord(chr(i+97)))\n",
    "    cv2.imwrite(filename, letter)\n"
   ]
  },
  {
   "cell_type": "code",
   "execution_count": null,
   "id": "19710d14",
   "metadata": {},
   "outputs": [],
   "source": []
  }
 ],
 "metadata": {
  "kernelspec": {
   "display_name": "Python 3 (ipykernel)",
   "language": "python",
   "name": "python3"
  },
  "language_info": {
   "codemirror_mode": {
    "name": "ipython",
    "version": 3
   },
   "file_extension": ".py",
   "mimetype": "text/x-python",
   "name": "python",
   "nbconvert_exporter": "python",
   "pygments_lexer": "ipython3",
   "version": "3.9.13"
  }
 },
 "nbformat": 4,
 "nbformat_minor": 5
}
