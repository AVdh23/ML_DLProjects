{
 "cells": [
  {
   "cell_type": "markdown",
   "id": "ea1fd370",
   "metadata": {},
   "source": [
    "# Rnn Implementation"
   ]
  },
  {
   "cell_type": "markdown",
   "id": "5679876c",
   "metadata": {},
   "source": [
    "\n",
    "**Large Movie Review Dataset**\n",
    "\n",
    "This is a dataset for binary sentiment classification containing substantially more data than previous benchmark datasets. We provide a set of 25,000 highly polar movie reviews for training, and 25,000 for testing. There is additional unlabeled data for use as well. Raw text and already processed bag of words formats are provided. See the README file contained in the release for more details.\n",
    "\n",
    "https://ai.stanford.edu/~amaas/data/sentiment/"
   ]
  },
  {
   "cell_type": "code",
   "execution_count": 33,
   "id": "40273da5",
   "metadata": {},
   "outputs": [],
   "source": [
    "#Importing Libraries\n",
    "import os\n",
    "import numpy as np\n",
    "import tensorflow as tf\n",
    "import matplotlib.pyplot as plt\n",
    "from tensorflow.keras.datasets import imdb\n",
    "from tensorflow.keras.preprocessing import sequence\n",
    "from tensorflow.keras.models import Sequential\n",
    "from tensorflow.keras.layers import Embedding, LSTM, Dense\n",
    "import collections  # import collections module\n",
    "\n",
    "# set seed for reproducibility\n",
    "np.random.seed(42)\n",
    "tf.random.set_seed(42)"
   ]
  },
  {
   "cell_type": "code",
   "execution_count": 6,
   "id": "8a7335d5",
   "metadata": {},
   "outputs": [
    {
     "name": "stdout",
     "output_type": "stream",
     "text": [
      "Downloading data from https://storage.googleapis.com/tensorflow/tf-keras-datasets/imdb.npz\n",
      "17464789/17464789 [==============================] - 25s 1us/step\n"
     ]
    }
   ],
   "source": [
    "# Load the dataset into a DataFrame\n",
    "# load IMDB dataset\n",
    "max_features = 10000 # consider only top 10,000 most common words\n",
    "maxlen = 500 # truncate sequences to a maximum length of 500\n",
    "(x_train, y_train), (x_test, y_test) = imdb.load_data(num_words=max_features)\n",
    "x_train = sequence.pad_sequences(x_train, maxlen=maxlen)\n",
    "x_test = sequence.pad_sequences(x_test, maxlen=maxlen)\n"
   ]
  },
  {
   "cell_type": "code",
   "execution_count": 8,
   "id": "aab0b4b3",
   "metadata": {},
   "outputs": [
    {
     "data": {
      "text/plain": [
       "array([[   0,    0,    0, ...,   19,  178,   32],\n",
       "       [   0,    0,    0, ...,   16,  145,   95],\n",
       "       [   0,    0,    0, ...,    7,  129,  113],\n",
       "       ...,\n",
       "       [   0,    0,    0, ...,    4, 3586,    2],\n",
       "       [   0,    0,    0, ...,   12,    9,   23],\n",
       "       [   0,    0,    0, ...,  204,  131,    9]])"
      ]
     },
     "execution_count": 8,
     "metadata": {},
     "output_type": "execute_result"
    }
   ],
   "source": [
    "x_train"
   ]
  },
  {
   "cell_type": "code",
   "execution_count": 9,
   "id": "a944385c",
   "metadata": {},
   "outputs": [
    {
     "data": {
      "text/plain": [
       "array([1, 0, 0, ..., 0, 1, 0], dtype=int64)"
      ]
     },
     "execution_count": 9,
     "metadata": {},
     "output_type": "execute_result"
    }
   ],
   "source": [
    "y_train"
   ]
  },
  {
   "cell_type": "code",
   "execution_count": 10,
   "id": "55b25cf3",
   "metadata": {},
   "outputs": [
    {
     "data": {
      "text/plain": [
       "array([[   0,    0,    0, ...,   14,    6,  717],\n",
       "       [   0,    0,    0, ...,  125,    4, 3077],\n",
       "       [  33,    6,   58, ...,    9,   57,  975],\n",
       "       ...,\n",
       "       [   0,    0,    0, ...,   21,  846, 5518],\n",
       "       [   0,    0,    0, ..., 2302,    7,  470],\n",
       "       [   0,    0,    0, ...,   34, 2005, 2643]])"
      ]
     },
     "execution_count": 10,
     "metadata": {},
     "output_type": "execute_result"
    }
   ],
   "source": [
    "x_test"
   ]
  },
  {
   "cell_type": "code",
   "execution_count": 11,
   "id": "69b6f275",
   "metadata": {},
   "outputs": [
    {
     "data": {
      "text/plain": [
       "array([0, 1, 1, ..., 0, 0, 0], dtype=int64)"
      ]
     },
     "execution_count": 11,
     "metadata": {},
     "output_type": "execute_result"
    }
   ],
   "source": [
    "y_test"
   ]
  },
  {
   "cell_type": "code",
   "execution_count": 12,
   "id": "8cb6328f",
   "metadata": {},
   "outputs": [
    {
     "data": {
      "text/plain": [
       "(25000, 500)"
      ]
     },
     "execution_count": 12,
     "metadata": {},
     "output_type": "execute_result"
    }
   ],
   "source": [
    "x_train.shape"
   ]
  },
  {
   "cell_type": "code",
   "execution_count": 13,
   "id": "02bc0b46",
   "metadata": {},
   "outputs": [
    {
     "data": {
      "text/plain": [
       "(25000, 500)"
      ]
     },
     "execution_count": 13,
     "metadata": {},
     "output_type": "execute_result"
    }
   ],
   "source": [
    "x_test.shape"
   ]
  },
  {
   "cell_type": "code",
   "execution_count": 14,
   "id": "58f7c34a",
   "metadata": {},
   "outputs": [
    {
     "data": {
      "text/plain": [
       "(25000,)"
      ]
     },
     "execution_count": 14,
     "metadata": {},
     "output_type": "execute_result"
    }
   ],
   "source": [
    "y_test.shape"
   ]
  },
  {
   "cell_type": "code",
   "execution_count": 15,
   "id": "31a792b8",
   "metadata": {},
   "outputs": [
    {
     "data": {
      "text/plain": [
       "(25000,)"
      ]
     },
     "execution_count": 15,
     "metadata": {},
     "output_type": "execute_result"
    }
   ],
   "source": [
    "y_train.shape"
   ]
  },
  {
   "cell_type": "code",
   "execution_count": 17,
   "id": "7784e1fa",
   "metadata": {},
   "outputs": [
    {
     "data": {
      "text/plain": [
       "<keras.engine.sequential.Sequential at 0x1cb433ae1f0>"
      ]
     },
     "execution_count": 17,
     "metadata": {},
     "output_type": "execute_result"
    }
   ],
   "source": [
    "# define RNN model\n",
    "model = Sequential([\n",
    "    Embedding(max_features, 32), # maps each word to a 32-dimensional vector\n",
    "    LSTM(32), # a type of RNN layer that can capture long-term dependencies\n",
    "    Dense(1, activation='sigmoid') # outputs a binary sentiment score\n",
    "])\n",
    "model"
   ]
  },
  {
   "cell_type": "code",
   "execution_count": 18,
   "id": "2888af47",
   "metadata": {},
   "outputs": [
    {
     "name": "stdout",
     "output_type": "stream",
     "text": [
      "Model: \"sequential_1\"\n",
      "_________________________________________________________________\n",
      " Layer (type)                Output Shape              Param #   \n",
      "=================================================================\n",
      " embedding_1 (Embedding)     (None, None, 32)          320000    \n",
      "                                                                 \n",
      " lstm_1 (LSTM)               (None, 32)                8320      \n",
      "                                                                 \n",
      " dense_1 (Dense)             (None, 1)                 33        \n",
      "                                                                 \n",
      "=================================================================\n",
      "Total params: 328,353\n",
      "Trainable params: 328,353\n",
      "Non-trainable params: 0\n",
      "_________________________________________________________________\n"
     ]
    }
   ],
   "source": [
    "# compile model\n",
    "model.compile(loss='binary_crossentropy', optimizer='rmsprop', metrics=['acc'])\n",
    "model.summary()"
   ]
  },
  {
   "cell_type": "code",
   "execution_count": 19,
   "id": "ae878733",
   "metadata": {},
   "outputs": [
    {
     "name": "stdout",
     "output_type": "stream",
     "text": [
      "Epoch 1/10\n",
      "157/157 [==============================] - 42s 257ms/step - loss: 0.5899 - acc: 0.6865 - val_loss: 0.3988 - val_acc: 0.8436\n",
      "Epoch 2/10\n",
      "157/157 [==============================] - 40s 252ms/step - loss: 0.3527 - acc: 0.8563 - val_loss: 0.4051 - val_acc: 0.8572\n",
      "Epoch 3/10\n",
      "157/157 [==============================] - 38s 240ms/step - loss: 0.2681 - acc: 0.8968 - val_loss: 0.2797 - val_acc: 0.8856\n",
      "Epoch 4/10\n",
      "157/157 [==============================] - 38s 243ms/step - loss: 0.2234 - acc: 0.9161 - val_loss: 0.3984 - val_acc: 0.8340\n",
      "Epoch 5/10\n",
      "157/157 [==============================] - 38s 242ms/step - loss: 0.2016 - acc: 0.9275 - val_loss: 0.3277 - val_acc: 0.8794\n",
      "Epoch 6/10\n",
      "157/157 [==============================] - 38s 243ms/step - loss: 0.1746 - acc: 0.9396 - val_loss: 0.3030 - val_acc: 0.8706\n",
      "Epoch 7/10\n",
      "157/157 [==============================] - 39s 246ms/step - loss: 0.1573 - acc: 0.9448 - val_loss: 0.3551 - val_acc: 0.8792\n",
      "Epoch 8/10\n",
      "157/157 [==============================] - 41s 260ms/step - loss: 0.1484 - acc: 0.9477 - val_loss: 0.3248 - val_acc: 0.8858\n",
      "Epoch 9/10\n",
      "157/157 [==============================] - 39s 250ms/step - loss: 0.1388 - acc: 0.9539 - val_loss: 0.3172 - val_acc: 0.8752\n",
      "Epoch 10/10\n",
      "157/157 [==============================] - 38s 244ms/step - loss: 0.1206 - acc: 0.9589 - val_loss: 0.3319 - val_acc: 0.8756\n"
     ]
    }
   ],
   "source": [
    "# train model\n",
    "history = model.fit(x_train, y_train, epochs=10, batch_size=128, validation_split=0.2)\n"
   ]
  },
  {
   "cell_type": "code",
   "execution_count": 20,
   "id": "2c2bc8a5",
   "metadata": {},
   "outputs": [
    {
     "name": "stdout",
     "output_type": "stream",
     "text": [
      "196/196 [==============================] - 18s 90ms/step - loss: 0.3564 - acc: 0.8683\n",
      "Test score: 0.35636457800865173\n",
      "Test accuracy: 0.8682799935340881\n"
     ]
    }
   ],
   "source": [
    "# evaluate model\n",
    "score, acc = model.evaluate(x_test, y_test, batch_size=128)\n",
    "print('Test score:', score)\n",
    "print('Test accuracy:', acc)"
   ]
  },
  {
   "cell_type": "code",
   "execution_count": 36,
   "id": "72749316",
   "metadata": {},
   "outputs": [
    {
     "data": {
      "image/png": "[encoded data removed]",
      "text/plain": [
       "<Figure size 640x480 with 1 Axes>"
      ]
     },
     "metadata": {},
     "output_type": "display_data"
    },
    {
     "data": {
      "image/png": "[encoded data removed]",
      "text/plain": [
       "<Figure size 640x480 with 1 Axes>"
      ]
     },
     "metadata": {},
     "output_type": "display_data"
    }
   ],
   "source": [
    "# plot the training and validation accuracy and loss curves\n",
    "\n",
    "plt.plot(epochs, acc, 'bo', label='Training accuracy')\n",
    "plt.plot(epochs, val_acc, 'b', label='Validation accuracy')\n",
    "plt.title('Training and validation accuracy')\n",
    "plt.legend()\n",
    "\n",
    "plt.figure()\n",
    "\n",
    "plt.plot(epochs, loss, 'bo', label='Training loss')\n",
    "plt.plot(epochs, val_loss, 'b', label='Validation loss')\n",
    "plt.title('Training and validation loss')\n",
    "plt.legend()\n",
    "\n",
    "plt.show()\n",
    "\n",
    "\n",
    "\n",
    "\n",
    "\n"
   ]
  },
  {
   "cell_type": "code",
   "execution_count": 29,
   "id": "04328e70",
   "metadata": {},
   "outputs": [],
   "source": [
    "# create word to index mapping\n",
    "word_to_index = imdb.get_word_index()\n",
    "word_to_index = {k: (v+3) for k, v in word_to_index.items()}\n",
    "word_to_index['<PAD>'] = 0\n",
    "word_to_index['<START>'] = 1\n",
    "word_to_index['<UNK>'] = 2\n",
    "word_to_index['<UNUSED>'] = 3\n",
    "index_to_word = {v: k for k, v in word_to_index.items()}\n",
    "\n",
    "\n",
    "\n",
    "#<PAD> - it is the special token used for fixed length \n",
    "#<Start>- is used to mark the beginning of the squence\n",
    "#unk>- used to indicate the unkown words\n",
    "#<unused>- used for words that are not used in the dataset\n"
   ]
  },
  {
   "cell_type": "code",
   "execution_count": 30,
   "id": "c01b45c0",
   "metadata": {},
   "outputs": [
    {
     "name": "stdout",
     "output_type": "stream",
     "text": [
      "20 most common words:\n",
      "<PAD> 6940978\n",
      "<UNK> 312863\n",
      "the 312670\n",
      "and 153363\n",
      "a 151603\n",
      "of 134737\n",
      "to 125863\n",
      "is 100587\n",
      "br 95476\n",
      "in 86917\n",
      "it 74733\n",
      "i 73329\n",
      "this 72310\n",
      "that 64762\n",
      "was 45380\n",
      "as 43508\n",
      "movie 41836\n",
      "for 41412\n",
      "with 40902\n",
      "but 40123\n"
     ]
    }
   ],
   "source": [
    "# count word frequencies\n",
    "word_counts = collections.Counter()\n",
    "for x in x_train:\n",
    "    for word_index in x:\n",
    "        word = index_to_word[word_index]\n",
    "        word_counts[word] += 1\n",
    "\n",
    "# print 20 most common words\n",
    "print('20 most common words:')\n",
    "for word, count in word_counts.most_common(20):\n",
    "    print(word, count)"
   ]
  },
  {
   "cell_type": "code",
   "execution_count": null,
   "id": "997f7a1a",
   "metadata": {},
   "outputs": [],
   "source": []
  }
 ],
 "metadata": {
  "kernelspec": {
   "display_name": "Python 3 (ipykernel)",
   "language": "python",
   "name": "python3"
  },
  "language_info": {
   "codemirror_mode": {
    "name": "ipython",
    "version": 3
   },
   "file_extension": ".py",
   "mimetype": "text/x-python",
   "name": "python",
   "nbconvert_exporter": "python",
   "pygments_lexer": "ipython3",
   "version": "3.9.13"
  }
 },
 "nbformat": 4,
 "nbformat_minor": 5
}
