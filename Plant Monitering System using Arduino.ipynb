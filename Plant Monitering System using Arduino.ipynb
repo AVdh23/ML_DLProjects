{
 "cells": [
  {
   "cell_type": "code",
   "execution_count": 1,
   "id": "b0afd547",
   "metadata": {},
   "outputs": [
    {
     "ename": "SerialException",
     "evalue": "could not open port 'COM3': PermissionError(13, 'Access is denied.', None, 5)",
     "output_type": "error",
     "traceback": [
      "\u001b[1;31m---------------------------------------------------------------------------\u001b[0m",
      "\u001b[1;31mSerialException\u001b[0m                           Traceback (most recent call last)",
      "\u001b[1;32m~\\AppData\\Local\\Temp\\ipykernel_5300\\2184084228.py\u001b[0m in \u001b[0;36m<module>\u001b[1;34m\u001b[0m\n\u001b[0;32m      5\u001b[0m \u001b[0marduino_port\u001b[0m \u001b[1;33m=\u001b[0m \u001b[1;34m'COM3'\u001b[0m  \u001b[1;31m# Replace with the correct port\u001b[0m\u001b[1;33m\u001b[0m\u001b[1;33m\u001b[0m\u001b[0m\n\u001b[0;32m      6\u001b[0m \u001b[0mbaud_rate\u001b[0m \u001b[1;33m=\u001b[0m \u001b[1;36m9600\u001b[0m\u001b[1;33m\u001b[0m\u001b[1;33m\u001b[0m\u001b[0m\n\u001b[1;32m----> 7\u001b[1;33m \u001b[0mser\u001b[0m \u001b[1;33m=\u001b[0m \u001b[0mserial\u001b[0m\u001b[1;33m.\u001b[0m\u001b[0mSerial\u001b[0m\u001b[1;33m(\u001b[0m\u001b[0marduino_port\u001b[0m\u001b[1;33m,\u001b[0m \u001b[0mbaud_rate\u001b[0m\u001b[1;33m)\u001b[0m\u001b[1;33m\u001b[0m\u001b[1;33m\u001b[0m\u001b[0m\n\u001b[0m\u001b[0;32m      8\u001b[0m \u001b[1;33m\u001b[0m\u001b[0m\n\u001b[0;32m      9\u001b[0m \u001b[1;31m# Variables to store the data\u001b[0m\u001b[1;33m\u001b[0m\u001b[1;33m\u001b[0m\u001b[0m\n",
      "\u001b[1;32m~\\anaconda3\\lib\\site-packages\\serial\\serialwin32.py\u001b[0m in \u001b[0;36m__init__\u001b[1;34m(self, *args, **kwargs)\u001b[0m\n\u001b[0;32m     31\u001b[0m         \u001b[0mself\u001b[0m\u001b[1;33m.\u001b[0m\u001b[0m_overlapped_read\u001b[0m \u001b[1;33m=\u001b[0m \u001b[1;32mNone\u001b[0m\u001b[1;33m\u001b[0m\u001b[1;33m\u001b[0m\u001b[0m\n\u001b[0;32m     32\u001b[0m         \u001b[0mself\u001b[0m\u001b[1;33m.\u001b[0m\u001b[0m_overlapped_write\u001b[0m \u001b[1;33m=\u001b[0m \u001b[1;32mNone\u001b[0m\u001b[1;33m\u001b[0m\u001b[1;33m\u001b[0m\u001b[0m\n\u001b[1;32m---> 33\u001b[1;33m         \u001b[0msuper\u001b[0m\u001b[1;33m(\u001b[0m\u001b[0mSerial\u001b[0m\u001b[1;33m,\u001b[0m \u001b[0mself\u001b[0m\u001b[1;33m)\u001b[0m\u001b[1;33m.\u001b[0m\u001b[0m__init__\u001b[0m\u001b[1;33m(\u001b[0m\u001b[1;33m*\u001b[0m\u001b[0margs\u001b[0m\u001b[1;33m,\u001b[0m \u001b[1;33m**\u001b[0m\u001b[0mkwargs\u001b[0m\u001b[1;33m)\u001b[0m\u001b[1;33m\u001b[0m\u001b[1;33m\u001b[0m\u001b[0m\n\u001b[0m\u001b[0;32m     34\u001b[0m \u001b[1;33m\u001b[0m\u001b[0m\n\u001b[0;32m     35\u001b[0m     \u001b[1;32mdef\u001b[0m \u001b[0mopen\u001b[0m\u001b[1;33m(\u001b[0m\u001b[0mself\u001b[0m\u001b[1;33m)\u001b[0m\u001b[1;33m:\u001b[0m\u001b[1;33m\u001b[0m\u001b[1;33m\u001b[0m\u001b[0m\n",
      "\u001b[1;32m~\\anaconda3\\lib\\site-packages\\serial\\serialutil.py\u001b[0m in \u001b[0;36m__init__\u001b[1;34m(self, port, baudrate, bytesize, parity, stopbits, timeout, xonxoff, rtscts, write_timeout, dsrdtr, inter_byte_timeout, exclusive, **kwargs)\u001b[0m\n\u001b[0;32m    242\u001b[0m \u001b[1;33m\u001b[0m\u001b[0m\n\u001b[0;32m    243\u001b[0m         \u001b[1;32mif\u001b[0m \u001b[0mport\u001b[0m \u001b[1;32mis\u001b[0m \u001b[1;32mnot\u001b[0m \u001b[1;32mNone\u001b[0m\u001b[1;33m:\u001b[0m\u001b[1;33m\u001b[0m\u001b[1;33m\u001b[0m\u001b[0m\n\u001b[1;32m--> 244\u001b[1;33m             \u001b[0mself\u001b[0m\u001b[1;33m.\u001b[0m\u001b[0mopen\u001b[0m\u001b[1;33m(\u001b[0m\u001b[1;33m)\u001b[0m\u001b[1;33m\u001b[0m\u001b[1;33m\u001b[0m\u001b[0m\n\u001b[0m\u001b[0;32m    245\u001b[0m \u001b[1;33m\u001b[0m\u001b[0m\n\u001b[0;32m    246\u001b[0m     \u001b[1;31m#  -  -  -  -  -  -  -  -  -  -  -  -  -  -  -  -  -  -  -  -  -  -  -  -\u001b[0m\u001b[1;33m\u001b[0m\u001b[1;33m\u001b[0m\u001b[0m\n",
      "\u001b[1;32m~\\anaconda3\\lib\\site-packages\\serial\\serialwin32.py\u001b[0m in \u001b[0;36mopen\u001b[1;34m(self)\u001b[0m\n\u001b[0;32m     62\u001b[0m         \u001b[1;32mif\u001b[0m \u001b[0mself\u001b[0m\u001b[1;33m.\u001b[0m\u001b[0m_port_handle\u001b[0m \u001b[1;33m==\u001b[0m \u001b[0mwin32\u001b[0m\u001b[1;33m.\u001b[0m\u001b[0mINVALID_HANDLE_VALUE\u001b[0m\u001b[1;33m:\u001b[0m\u001b[1;33m\u001b[0m\u001b[1;33m\u001b[0m\u001b[0m\n\u001b[0;32m     63\u001b[0m             \u001b[0mself\u001b[0m\u001b[1;33m.\u001b[0m\u001b[0m_port_handle\u001b[0m \u001b[1;33m=\u001b[0m \u001b[1;32mNone\u001b[0m    \u001b[1;31m# 'cause __del__ is called anyway\u001b[0m\u001b[1;33m\u001b[0m\u001b[1;33m\u001b[0m\u001b[0m\n\u001b[1;32m---> 64\u001b[1;33m             \u001b[1;32mraise\u001b[0m \u001b[0mSerialException\u001b[0m\u001b[1;33m(\u001b[0m\u001b[1;34m\"could not open port {!r}: {!r}\"\u001b[0m\u001b[1;33m.\u001b[0m\u001b[0mformat\u001b[0m\u001b[1;33m(\u001b[0m\u001b[0mself\u001b[0m\u001b[1;33m.\u001b[0m\u001b[0mportstr\u001b[0m\u001b[1;33m,\u001b[0m \u001b[0mctypes\u001b[0m\u001b[1;33m.\u001b[0m\u001b[0mWinError\u001b[0m\u001b[1;33m(\u001b[0m\u001b[1;33m)\u001b[0m\u001b[1;33m)\u001b[0m\u001b[1;33m)\u001b[0m\u001b[1;33m\u001b[0m\u001b[1;33m\u001b[0m\u001b[0m\n\u001b[0m\u001b[0;32m     65\u001b[0m \u001b[1;33m\u001b[0m\u001b[0m\n\u001b[0;32m     66\u001b[0m         \u001b[1;32mtry\u001b[0m\u001b[1;33m:\u001b[0m\u001b[1;33m\u001b[0m\u001b[1;33m\u001b[0m\u001b[0m\n",
      "\u001b[1;31mSerialException\u001b[0m: could not open port 'COM3': PermissionError(13, 'Access is denied.', None, 5)"
     ]
    }
   ],
   "source": [
    "import serial\n",
    "import matplotlib.pyplot as plt\n",
    "\n",
    "# Configure the serial connection\n",
    "arduino_port = 'COM3'  # Replace with the correct port\n",
    "baud_rate = 9600\n",
    "ser = serial.Serial(arduino_port, baud_rate)\n",
    "\n",
    "# Variables to store the data\n",
    "moisture_values = []\n",
    "light_values = []\n",
    "\n",
    "# Read data from Arduino and plot the graphs\n",
    "try:\n",
    "    while True:\n",
    "        # Read a line of data from the Arduino\n",
    "        line = ser.readline().decode().strip()\n",
    "\n",
    "        # Extract moisture and light values from the line\n",
    "        moisture, light = line.split(\"\\t\")\n",
    "        moisture_values.append(int(moisture.split(\":\")[1]))\n",
    "        light_values.append(int(light.split(\":\")[1]))\n",
    "\n",
    "        # Plot the graphs\n",
    "        plt.figure(figsize=(10, 5))\n",
    "        plt.subplot(2, 1, 1)\n",
    "        plt.plot(moisture_values, 'r')\n",
    "        plt.ylabel('Moisture')\n",
    "        plt.subplot(2, 1, 2)\n",
    "        plt.plot(light_values, 'b')\n",
    "        plt.ylabel('Light')\n",
    "        plt.xlabel('Time')\n",
    "        plt.show(block=False)\n",
    "        plt.pause(0.1)\n",
    "except KeyboardInterrupt:\n",
    "    ser.close()\n",
    "    print('Serial connection closed.')\n"
   ]
  },
  {
   "cell_type": "code",
   "execution_count": 2,
   "id": "25433a19",
   "metadata": {},
   "outputs": [
    {
     "ename": "SerialException",
     "evalue": "could not open port 'COM3': PermissionError(13, 'Access is denied.', None, 5)",
     "output_type": "error",
     "traceback": [
      "\u001b[1;31m---------------------------------------------------------------------------\u001b[0m",
      "\u001b[1;31mSerialException\u001b[0m                           Traceback (most recent call last)",
      "\u001b[1;32m~\\AppData\\Local\\Temp\\ipykernel_5300\\2337855059.py\u001b[0m in \u001b[0;36m<module>\u001b[1;34m\u001b[0m\n\u001b[0;32m      7\u001b[0m \u001b[0marduino_port\u001b[0m \u001b[1;33m=\u001b[0m \u001b[1;34m'COM3'\u001b[0m  \u001b[1;31m# Replace with the correct port\u001b[0m\u001b[1;33m\u001b[0m\u001b[1;33m\u001b[0m\u001b[0m\n\u001b[0;32m      8\u001b[0m \u001b[0mbaud_rate\u001b[0m \u001b[1;33m=\u001b[0m \u001b[1;36m9600\u001b[0m\u001b[1;33m\u001b[0m\u001b[1;33m\u001b[0m\u001b[0m\n\u001b[1;32m----> 9\u001b[1;33m \u001b[0mser\u001b[0m \u001b[1;33m=\u001b[0m \u001b[0mserial\u001b[0m\u001b[1;33m.\u001b[0m\u001b[0mSerial\u001b[0m\u001b[1;33m(\u001b[0m\u001b[0marduino_port\u001b[0m\u001b[1;33m,\u001b[0m \u001b[0mbaud_rate\u001b[0m\u001b[1;33m)\u001b[0m\u001b[1;33m\u001b[0m\u001b[1;33m\u001b[0m\u001b[0m\n\u001b[0m\u001b[0;32m     10\u001b[0m \u001b[1;33m\u001b[0m\u001b[0m\n\u001b[0;32m     11\u001b[0m \u001b[1;31m# Connect to the SQLite database\u001b[0m\u001b[1;33m\u001b[0m\u001b[1;33m\u001b[0m\u001b[0m\n",
      "\u001b[1;32m~\\anaconda3\\lib\\site-packages\\serial\\serialwin32.py\u001b[0m in \u001b[0;36m__init__\u001b[1;34m(self, *args, **kwargs)\u001b[0m\n\u001b[0;32m     31\u001b[0m         \u001b[0mself\u001b[0m\u001b[1;33m.\u001b[0m\u001b[0m_overlapped_read\u001b[0m \u001b[1;33m=\u001b[0m \u001b[1;32mNone\u001b[0m\u001b[1;33m\u001b[0m\u001b[1;33m\u001b[0m\u001b[0m\n\u001b[0;32m     32\u001b[0m         \u001b[0mself\u001b[0m\u001b[1;33m.\u001b[0m\u001b[0m_overlapped_write\u001b[0m \u001b[1;33m=\u001b[0m \u001b[1;32mNone\u001b[0m\u001b[1;33m\u001b[0m\u001b[1;33m\u001b[0m\u001b[0m\n\u001b[1;32m---> 33\u001b[1;33m         \u001b[0msuper\u001b[0m\u001b[1;33m(\u001b[0m\u001b[0mSerial\u001b[0m\u001b[1;33m,\u001b[0m \u001b[0mself\u001b[0m\u001b[1;33m)\u001b[0m\u001b[1;33m.\u001b[0m\u001b[0m__init__\u001b[0m\u001b[1;33m(\u001b[0m\u001b[1;33m*\u001b[0m\u001b[0margs\u001b[0m\u001b[1;33m,\u001b[0m \u001b[1;33m**\u001b[0m\u001b[0mkwargs\u001b[0m\u001b[1;33m)\u001b[0m\u001b[1;33m\u001b[0m\u001b[1;33m\u001b[0m\u001b[0m\n\u001b[0m\u001b[0;32m     34\u001b[0m \u001b[1;33m\u001b[0m\u001b[0m\n\u001b[0;32m     35\u001b[0m     \u001b[1;32mdef\u001b[0m \u001b[0mopen\u001b[0m\u001b[1;33m(\u001b[0m\u001b[0mself\u001b[0m\u001b[1;33m)\u001b[0m\u001b[1;33m:\u001b[0m\u001b[1;33m\u001b[0m\u001b[1;33m\u001b[0m\u001b[0m\n",
      "\u001b[1;32m~\\anaconda3\\lib\\site-packages\\serial\\serialutil.py\u001b[0m in \u001b[0;36m__init__\u001b[1;34m(self, port, baudrate, bytesize, parity, stopbits, timeout, xonxoff, rtscts, write_timeout, dsrdtr, inter_byte_timeout, exclusive, **kwargs)\u001b[0m\n\u001b[0;32m    242\u001b[0m \u001b[1;33m\u001b[0m\u001b[0m\n\u001b[0;32m    243\u001b[0m         \u001b[1;32mif\u001b[0m \u001b[0mport\u001b[0m \u001b[1;32mis\u001b[0m \u001b[1;32mnot\u001b[0m \u001b[1;32mNone\u001b[0m\u001b[1;33m:\u001b[0m\u001b[1;33m\u001b[0m\u001b[1;33m\u001b[0m\u001b[0m\n\u001b[1;32m--> 244\u001b[1;33m             \u001b[0mself\u001b[0m\u001b[1;33m.\u001b[0m\u001b[0mopen\u001b[0m\u001b[1;33m(\u001b[0m\u001b[1;33m)\u001b[0m\u001b[1;33m\u001b[0m\u001b[1;33m\u001b[0m\u001b[0m\n\u001b[0m\u001b[0;32m    245\u001b[0m \u001b[1;33m\u001b[0m\u001b[0m\n\u001b[0;32m    246\u001b[0m     \u001b[1;31m#  -  -  -  -  -  -  -  -  -  -  -  -  -  -  -  -  -  -  -  -  -  -  -  -\u001b[0m\u001b[1;33m\u001b[0m\u001b[1;33m\u001b[0m\u001b[0m\n",
      "\u001b[1;32m~\\anaconda3\\lib\\site-packages\\serial\\serialwin32.py\u001b[0m in \u001b[0;36mopen\u001b[1;34m(self)\u001b[0m\n\u001b[0;32m     62\u001b[0m         \u001b[1;32mif\u001b[0m \u001b[0mself\u001b[0m\u001b[1;33m.\u001b[0m\u001b[0m_port_handle\u001b[0m \u001b[1;33m==\u001b[0m \u001b[0mwin32\u001b[0m\u001b[1;33m.\u001b[0m\u001b[0mINVALID_HANDLE_VALUE\u001b[0m\u001b[1;33m:\u001b[0m\u001b[1;33m\u001b[0m\u001b[1;33m\u001b[0m\u001b[0m\n\u001b[0;32m     63\u001b[0m             \u001b[0mself\u001b[0m\u001b[1;33m.\u001b[0m\u001b[0m_port_handle\u001b[0m \u001b[1;33m=\u001b[0m \u001b[1;32mNone\u001b[0m    \u001b[1;31m# 'cause __del__ is called anyway\u001b[0m\u001b[1;33m\u001b[0m\u001b[1;33m\u001b[0m\u001b[0m\n\u001b[1;32m---> 64\u001b[1;33m             \u001b[1;32mraise\u001b[0m \u001b[0mSerialException\u001b[0m\u001b[1;33m(\u001b[0m\u001b[1;34m\"could not open port {!r}: {!r}\"\u001b[0m\u001b[1;33m.\u001b[0m\u001b[0mformat\u001b[0m\u001b[1;33m(\u001b[0m\u001b[0mself\u001b[0m\u001b[1;33m.\u001b[0m\u001b[0mportstr\u001b[0m\u001b[1;33m,\u001b[0m \u001b[0mctypes\u001b[0m\u001b[1;33m.\u001b[0m\u001b[0mWinError\u001b[0m\u001b[1;33m(\u001b[0m\u001b[1;33m)\u001b[0m\u001b[1;33m)\u001b[0m\u001b[1;33m)\u001b[0m\u001b[1;33m\u001b[0m\u001b[1;33m\u001b[0m\u001b[0m\n\u001b[0m\u001b[0;32m     65\u001b[0m \u001b[1;33m\u001b[0m\u001b[0m\n\u001b[0;32m     66\u001b[0m         \u001b[1;32mtry\u001b[0m\u001b[1;33m:\u001b[0m\u001b[1;33m\u001b[0m\u001b[1;33m\u001b[0m\u001b[0m\n",
      "\u001b[1;31mSerialException\u001b[0m: could not open port 'COM3': PermissionError(13, 'Access is denied.', None, 5)"
     ]
    }
   ],
   "source": [
    "import serial\n",
    "import sqlite3\n",
    "import matplotlib.pyplot as plt\n",
    "import time\n",
    "\n",
    "# Configure the serial connection\n",
    "arduino_port = 'COM3'  # Replace with the correct port\n",
    "baud_rate = 9600\n",
    "ser = serial.Serial(arduino_port, baud_rate)\n",
    "\n",
    "# Connect to the SQLite database\n",
    "conn = sqlite3.connect('sensor_data.db')\n",
    "c = conn.cursor()\n",
    "\n",
    "# Create the table if it doesn't exist\n",
    "c.execute('''CREATE TABLE IF NOT EXISTS sensor_data\n",
    "             (timestamp DATETIME, moisture INT, light INT)''')\n",
    "\n",
    "# Variables to store the data\n",
    "moisture_values = []\n",
    "light_values = []\n",
    "\n",
    "# Read data from Arduino and insert into the database\n",
    "start_time = time.time()\n",
    "while True:\n",
    "    # Read a line of data from the Arduino\n",
    "    line = ser.readline().decode().strip()\n",
    "\n",
    "    # Extract moisture and light values from the line\n",
    "    moisture, light = line.split(\"\\t\")\n",
    "    moisture_value = int(moisture.split(\":\")[1])\n",
    "    light_value = int(light.split(\":\")[1])\n",
    "\n",
    "    # Insert data into the database\n",
    "    current_time = time.strftime('%Y-%m-%d %H:%M:%S')\n",
    "    c.execute(\"INSERT INTO sensor_data VALUES (?, ?, ?)\", (current_time, moisture_value, light_value))\n",
    "    conn.commit()\n",
    "\n",
    "    # Append values to the lists\n",
    "    moisture_values.append(moisture_value)\n",
    "    light_values.append(light_value)\n",
    "\n",
    "    # Check if 200 seconds have passed\n",
    "    elapsed_time = time.time() - start_time\n",
    "    if elapsed_time >= 200:\n",
    "        break\n",
    "\n",
    "    time.sleep(1)  # Wait for 1 second\n",
    "\n",
    "ser.close()\n",
    "conn.close()\n",
    "print('Serial connection and database connection closed.')\n",
    "\n",
    "# Plot the graph from the database\n",
    "conn = sqlite3.connect('sensor_data.db')\n",
    "c = conn.cursor()\n",
    "c.execute(\"SELECT timestamp, moisture, light FROM sensor_data\")\n",
    "data = c.fetchall()\n",
    "conn.close()\n",
    "\n",
    "timestamps = [row[0] for row in data]\n",
    "moisture_values = [row[1] for row in data]\n",
    "light_values = [row[2] for row in data]\n",
    "\n",
    "plt.figure(figsize=(10, 5))\n",
    "plt.subplot(2, 1, 1)\n",
    "plt.plot(timestamps, moisture_values, 'r')\n",
    "plt.ylabel('Moisture')\n",
    "\n",
    "plt.subplot(2, 1, 2)\n",
    "plt.plot(timestamps, light_values, 'b')\n",
    "plt.ylabel('Light')\n",
    "plt.xlabel('Timestamp')\n",
    "\n",
    "plt.show()\n"
   ]
  },
  {
   "cell_type": "code",
   "execution_count": null,
   "id": "4e049708",
   "metadata": {},
   "outputs": [],
   "source": [
    "data"
   ]
  },
  {
   "cell_type": "code",
   "execution_count": null,
   "id": "45878e38",
   "metadata": {},
   "outputs": [],
   "source": [
    "import pandas as pd\n",
    "columns = ['timestamp', 'moisture', 'light']\n",
    "df = pd.DataFrame(data, columns=columns)"
   ]
  },
  {
   "cell_type": "code",
   "execution_count": null,
   "id": "515ded83",
   "metadata": {},
   "outputs": [],
   "source": [
    "df"
   ]
  },
  {
   "cell_type": "code",
   "execution_count": null,
   "id": "b91c1190",
   "metadata": {},
   "outputs": [],
   "source": [
    "import pandas as pd\n",
    "\n",
    "# Save DataFrame as CSV\n",
    "file_path = r'E:\\Plant\\sensor_data.csv'\n",
    "df.to_csv(file_path, index=False)\n",
    "\n"
   ]
  },
  {
   "cell_type": "code",
   "execution_count": 8,
   "id": "7a88348d",
   "metadata": {},
   "outputs": [
    {
     "name": "stdout",
     "output_type": "stream",
     "text": [
      "               timestamp  moisture  light\n",
      "0    2023-05-26 18:30:28      1023    819\n",
      "1    2023-05-26 18:30:29      1021    805\n",
      "2    2023-05-26 18:30:30      1023    817\n",
      "3    2023-05-26 18:30:31      1021    807\n",
      "4    2023-05-26 18:30:32      1021    813\n",
      "..                   ...       ...    ...\n",
      "373  2023-05-26 22:28:04      1023    875\n",
      "374  2023-05-26 22:28:05      1023    878\n",
      "375  2023-05-26 22:28:06      1022    878\n",
      "376  2023-05-26 22:28:07      1022    875\n",
      "377  2023-05-26 22:28:08      1022    872\n",
      "\n",
      "[378 rows x 3 columns]\n"
     ]
    }
   ],
   "source": [
    "import pandas as pd\n",
    "\n",
    "# Replace 'your_file.csv' with the actual file path and name\n",
    "df = pd.read_csv(r'E:\\Plant\\sensor_data.csv')\n",
    "\n",
    "print(df)\n"
   ]
  },
  {
   "cell_type": "code",
   "execution_count": 9,
   "id": "2271e149",
   "metadata": {},
   "outputs": [
    {
     "data": {
      "text/html": [
       "<div>\n",
       "<style scoped>\n",
       "    .dataframe tbody tr th:only-of-type {\n",
       "        vertical-align: middle;\n",
       "    }\n",
       "\n",
       "    .dataframe tbody tr th {\n",
       "        vertical-align: top;\n",
       "    }\n",
       "\n",
       "    .dataframe thead th {\n",
       "        text-align: right;\n",
       "    }\n",
       "</style>\n",
       "<table border=\"1\" class=\"dataframe\">\n",
       "  <thead>\n",
       "    <tr style=\"text-align: right;\">\n",
       "      <th></th>\n",
       "      <th>timestamp</th>\n",
       "      <th>moisture</th>\n",
       "      <th>light</th>\n",
       "    </tr>\n",
       "  </thead>\n",
       "  <tbody>\n",
       "    <tr>\n",
       "      <th>0</th>\n",
       "      <td>2023-05-26 18:30:28</td>\n",
       "      <td>1023</td>\n",
       "      <td>819</td>\n",
       "    </tr>\n",
       "    <tr>\n",
       "      <th>1</th>\n",
       "      <td>2023-05-26 18:30:29</td>\n",
       "      <td>1021</td>\n",
       "      <td>805</td>\n",
       "    </tr>\n",
       "    <tr>\n",
       "      <th>2</th>\n",
       "      <td>2023-05-26 18:30:30</td>\n",
       "      <td>1023</td>\n",
       "      <td>817</td>\n",
       "    </tr>\n",
       "    <tr>\n",
       "      <th>3</th>\n",
       "      <td>2023-05-26 18:30:31</td>\n",
       "      <td>1021</td>\n",
       "      <td>807</td>\n",
       "    </tr>\n",
       "    <tr>\n",
       "      <th>4</th>\n",
       "      <td>2023-05-26 18:30:32</td>\n",
       "      <td>1021</td>\n",
       "      <td>813</td>\n",
       "    </tr>\n",
       "    <tr>\n",
       "      <th>...</th>\n",
       "      <td>...</td>\n",
       "      <td>...</td>\n",
       "      <td>...</td>\n",
       "    </tr>\n",
       "    <tr>\n",
       "      <th>373</th>\n",
       "      <td>2023-05-26 22:28:04</td>\n",
       "      <td>1023</td>\n",
       "      <td>875</td>\n",
       "    </tr>\n",
       "    <tr>\n",
       "      <th>374</th>\n",
       "      <td>2023-05-26 22:28:05</td>\n",
       "      <td>1023</td>\n",
       "      <td>878</td>\n",
       "    </tr>\n",
       "    <tr>\n",
       "      <th>375</th>\n",
       "      <td>2023-05-26 22:28:06</td>\n",
       "      <td>1022</td>\n",
       "      <td>878</td>\n",
       "    </tr>\n",
       "    <tr>\n",
       "      <th>376</th>\n",
       "      <td>2023-05-26 22:28:07</td>\n",
       "      <td>1022</td>\n",
       "      <td>875</td>\n",
       "    </tr>\n",
       "    <tr>\n",
       "      <th>377</th>\n",
       "      <td>2023-05-26 22:28:08</td>\n",
       "      <td>1022</td>\n",
       "      <td>872</td>\n",
       "    </tr>\n",
       "  </tbody>\n",
       "</table>\n",
       "<p>378 rows × 3 columns</p>\n",
       "</div>"
      ],
      "text/plain": [
       "               timestamp  moisture  light\n",
       "0    2023-05-26 18:30:28      1023    819\n",
       "1    2023-05-26 18:30:29      1021    805\n",
       "2    2023-05-26 18:30:30      1023    817\n",
       "3    2023-05-26 18:30:31      1021    807\n",
       "4    2023-05-26 18:30:32      1021    813\n",
       "..                   ...       ...    ...\n",
       "373  2023-05-26 22:28:04      1023    875\n",
       "374  2023-05-26 22:28:05      1023    878\n",
       "375  2023-05-26 22:28:06      1022    878\n",
       "376  2023-05-26 22:28:07      1022    875\n",
       "377  2023-05-26 22:28:08      1022    872\n",
       "\n",
       "[378 rows x 3 columns]"
      ]
     },
     "execution_count": 9,
     "metadata": {},
     "output_type": "execute_result"
    }
   ],
   "source": [
    "df"
   ]
  },
  {
   "cell_type": "markdown",
   "id": "3103c219",
   "metadata": {},
   "source": [
    "## Using Pywhatkit to send instantly"
   ]
  },
  {
   "cell_type": "code",
   "execution_count": 4,
   "id": "aff9e238",
   "metadata": {},
   "outputs": [
    {
     "name": "stdout",
     "output_type": "stream",
     "text": [
      "WhatsApp message sent successfully.\n"
     ]
    }
   ],
   "source": [
    "import pywhatkit as pwk\n",
    "import pandas as pd\n",
    "\n",
    "# Load the dataframe\n",
    "df = pd.read_csv(r'E:\\Plant\\sensor_data.csv')\n",
    "\n",
    "\n",
    "if (df['moisture'] == 1000).any() and (df['moisture'] > 1022).any():\n",
    "    # Specify the phone number and message\n",
    "    phone_number = \"+919990091106\"\n",
    "    message = \"Moisture alert! The moisture value of 1023 is greater than 1022!\"\n",
    "\n",
    "    \n",
    "    # Send the WhatsApp message instantly\n",
    "    pwk.sendwhatmsg_instantly(phone_number, message)\n",
    "    print('WhatsApp message sent successfully.')\n"
   ]
  },
  {
   "cell_type": "code",
   "execution_count": 6,
   "id": "a0e37f8e",
   "metadata": {},
   "outputs": [
    {
     "name": "stdout",
     "output_type": "stream",
     "text": [
      "WhatsApp message sent successfully.\n"
     ]
    }
   ],
   "source": [
    "import pywhatkit as pwk\n",
    "import pandas as pd\n",
    "\n",
    "# Load the dataframe\n",
    "df = pd.read_csv(r'E:\\Plant\\sensor_data.csv')\n",
    "\n",
    "# Check if moisture value of 1023 is greater than 1022\n",
    "if (df['moisture'] == 1023).any() and (df['moisture'] > 1022).any():\n",
    "    # Specify the phone number and message\n",
    "    phone_number = \"+919990091106\"\n",
    "    message = \"Moisture alert! The moisture value of 1023 is greater than 1022!\"\n",
    "\n",
    "    # Send the WhatsApp message instantly\n",
    "    pwk.sendwhatmsg_instantly(phone_number, message)\n",
    "    print('WhatsApp message sent successfully.')\n"
   ]
  },
  {
   "cell_type": "code",
   "execution_count": 10,
   "id": "a23f8beb",
   "metadata": {},
   "outputs": [
    {
     "name": "stdout",
     "output_type": "stream",
     "text": [
      "               timestamp  moisture  light\n",
      "0    2023-05-26 18:30:28         1     81\n",
      "1    2023-05-26 18:30:29         3     95\n",
      "2    2023-05-26 18:30:30         1     83\n",
      "3    2023-05-26 18:30:31         3     93\n",
      "4    2023-05-26 18:30:32         3     87\n",
      "..                   ...       ...    ...\n",
      "373  2023-05-26 22:28:04         1     25\n",
      "374  2023-05-26 22:28:05         1     22\n",
      "375  2023-05-26 22:28:06         2     22\n",
      "376  2023-05-26 22:28:07         2     25\n",
      "377  2023-05-26 22:28:08         2     28\n",
      "\n",
      "[378 rows x 3 columns]\n"
     ]
    }
   ],
   "source": [
    "import pandas as pd\n",
    "\n",
    "# Reduce moisture by 1024 and take absolute value\n",
    "df['moisture'] = df['moisture'].sub(1024).abs()\n",
    "\n",
    "# Reduce light by 900\n",
    "df['light'] = df['light'].sub(900).abs()\n",
    "\n",
    "# Display the updated dataframe\n",
    "print(df)\n"
   ]
  },
  {
   "cell_type": "code",
   "execution_count": 13,
   "id": "c860cf52",
   "metadata": {},
   "outputs": [
    {
     "data": {
      "text/html": [
       "<div>\n",
       "<style scoped>\n",
       "    .dataframe tbody tr th:only-of-type {\n",
       "        vertical-align: middle;\n",
       "    }\n",
       "\n",
       "    .dataframe tbody tr th {\n",
       "        vertical-align: top;\n",
       "    }\n",
       "\n",
       "    .dataframe thead th {\n",
       "        text-align: right;\n",
       "    }\n",
       "</style>\n",
       "<table border=\"1\" class=\"dataframe\">\n",
       "  <thead>\n",
       "    <tr style=\"text-align: right;\">\n",
       "      <th></th>\n",
       "      <th>timestamp</th>\n",
       "      <th>moisture</th>\n",
       "      <th>light</th>\n",
       "    </tr>\n",
       "  </thead>\n",
       "  <tbody>\n",
       "    <tr>\n",
       "      <th>0</th>\n",
       "      <td>2023-05-26 18:30:28</td>\n",
       "      <td>1</td>\n",
       "      <td>81</td>\n",
       "    </tr>\n",
       "    <tr>\n",
       "      <th>1</th>\n",
       "      <td>2023-05-26 18:30:29</td>\n",
       "      <td>3</td>\n",
       "      <td>95</td>\n",
       "    </tr>\n",
       "    <tr>\n",
       "      <th>2</th>\n",
       "      <td>2023-05-26 18:30:30</td>\n",
       "      <td>1</td>\n",
       "      <td>83</td>\n",
       "    </tr>\n",
       "    <tr>\n",
       "      <th>3</th>\n",
       "      <td>2023-05-26 18:30:31</td>\n",
       "      <td>3</td>\n",
       "      <td>93</td>\n",
       "    </tr>\n",
       "    <tr>\n",
       "      <th>4</th>\n",
       "      <td>2023-05-26 18:30:32</td>\n",
       "      <td>3</td>\n",
       "      <td>87</td>\n",
       "    </tr>\n",
       "    <tr>\n",
       "      <th>...</th>\n",
       "      <td>...</td>\n",
       "      <td>...</td>\n",
       "      <td>...</td>\n",
       "    </tr>\n",
       "    <tr>\n",
       "      <th>373</th>\n",
       "      <td>2023-05-26 22:28:04</td>\n",
       "      <td>1</td>\n",
       "      <td>25</td>\n",
       "    </tr>\n",
       "    <tr>\n",
       "      <th>374</th>\n",
       "      <td>2023-05-26 22:28:05</td>\n",
       "      <td>1</td>\n",
       "      <td>22</td>\n",
       "    </tr>\n",
       "    <tr>\n",
       "      <th>375</th>\n",
       "      <td>2023-05-26 22:28:06</td>\n",
       "      <td>2</td>\n",
       "      <td>22</td>\n",
       "    </tr>\n",
       "    <tr>\n",
       "      <th>376</th>\n",
       "      <td>2023-05-26 22:28:07</td>\n",
       "      <td>2</td>\n",
       "      <td>25</td>\n",
       "    </tr>\n",
       "    <tr>\n",
       "      <th>377</th>\n",
       "      <td>2023-05-26 22:28:08</td>\n",
       "      <td>2</td>\n",
       "      <td>28</td>\n",
       "    </tr>\n",
       "  </tbody>\n",
       "</table>\n",
       "<p>378 rows × 3 columns</p>\n",
       "</div>"
      ],
      "text/plain": [
       "               timestamp  moisture  light\n",
       "0    2023-05-26 18:30:28         1     81\n",
       "1    2023-05-26 18:30:29         3     95\n",
       "2    2023-05-26 18:30:30         1     83\n",
       "3    2023-05-26 18:30:31         3     93\n",
       "4    2023-05-26 18:30:32         3     87\n",
       "..                   ...       ...    ...\n",
       "373  2023-05-26 22:28:04         1     25\n",
       "374  2023-05-26 22:28:05         1     22\n",
       "375  2023-05-26 22:28:06         2     22\n",
       "376  2023-05-26 22:28:07         2     25\n",
       "377  2023-05-26 22:28:08         2     28\n",
       "\n",
       "[378 rows x 3 columns]"
      ]
     },
     "execution_count": 13,
     "metadata": {},
     "output_type": "execute_result"
    }
   ],
   "source": [
    "df"
   ]
  },
  {
   "cell_type": "code",
   "execution_count": 14,
   "id": "d7a6b96e",
   "metadata": {},
   "outputs": [
    {
     "data": {
      "text/plain": [
       "271"
      ]
     },
     "execution_count": 14,
     "metadata": {},
     "output_type": "execute_result"
    }
   ],
   "source": [
    "df['moisture'].max()"
   ]
  },
  {
   "cell_type": "code",
   "execution_count": 15,
   "id": "e6a7bf12",
   "metadata": {},
   "outputs": [
    {
     "data": {
      "text/plain": [
       "517"
      ]
     },
     "execution_count": 15,
     "metadata": {},
     "output_type": "execute_result"
    }
   ],
   "source": [
    "df['light'].max()"
   ]
  },
  {
   "cell_type": "markdown",
   "id": "6104cb21",
   "metadata": {},
   "source": [
    "## Visulalize"
   ]
  },
  {
   "cell_type": "code",
   "execution_count": 16,
   "id": "d4d3c6da",
   "metadata": {},
   "outputs": [
    {
     "data": {
      "image/png": "[encoded data removed]",
      "text/plain": [
       "<Figure size 1200x600 with 1 Axes>"
      ]
     },
     "metadata": {},
     "output_type": "display_data"
    }
   ],
   "source": [
    "import matplotlib.pyplot as plt\n",
    "\n",
    "# Convert timestamp column to datetime\n",
    "df['timestamp'] = pd.to_datetime(df['timestamp'])\n",
    "\n",
    "# Plotting the data\n",
    "plt.figure(figsize=(12, 6))\n",
    "plt.plot(df['timestamp'], df['moisture'], label='Moisture')\n",
    "plt.plot(df['timestamp'], df['light'], label='Light')\n",
    "plt.xlabel('Timestamp')\n",
    "plt.ylabel('Value')\n",
    "plt.title('Moisture and Light over Time')\n",
    "plt.legend()\n",
    "plt.xticks(rotation=45)\n",
    "plt.show()\n"
   ]
  },
  {
   "cell_type": "code",
   "execution_count": 17,
   "id": "f27d394b",
   "metadata": {},
   "outputs": [
    {
     "data": {
      "image/png": "[encoded data removed]",
      "text/plain": [
       "<Figure size 1200x600 with 1 Axes>"
      ]
     },
     "metadata": {},
     "output_type": "display_data"
    }
   ],
   "source": [
    "import matplotlib.pyplot as plt\n",
    "from sklearn.preprocessing import MinMaxScaler\n",
    "\n",
    "# Convert timestamp column to datetime\n",
    "df['timestamp'] = pd.to_datetime(df['timestamp'])\n",
    "\n",
    "# Normalize 'moisture' and 'light' columns to a range of 0-100\n",
    "scaler = MinMaxScaler(feature_range=(0, 100))\n",
    "df['moisture_normalized'] = scaler.fit_transform(df['moisture'].values.reshape(-1, 1))\n",
    "df['light_normalized'] = scaler.fit_transform(df['light'].values.reshape(-1, 1))\n",
    "\n",
    "# Plotting the data\n",
    "plt.figure(figsize=(12, 6))\n",
    "plt.plot(df['timestamp'], df['moisture_normalized'], label='Moisture')\n",
    "plt.plot(df['timestamp'], df['light_normalized'], label='Light')\n",
    "plt.xlabel('Timestamp')\n",
    "plt.ylabel('Normalized Value')\n",
    "plt.title('Normalized Moisture and Light over Time')\n",
    "plt.legend()\n",
    "plt.xticks(rotation=45)\n",
    "plt.show()\n"
   ]
  },
  {
   "cell_type": "code",
   "execution_count": 26,
   "id": "b6679cc8",
   "metadata": {},
   "outputs": [
    {
     "name": "stdout",
     "output_type": "stream",
     "text": [
      "Message sent successfully.\n"
     ]
    }
   ],
   "source": [
    "import requests\n",
    "\n",
    "# Get the latest entry from the dataframe\n",
    "latest_entry = df.iloc[-1]\n",
    "\n",
    "# Check if moisture value is lesser than 20\n",
    "if latest_entry['moisture'] < 20:\n",
    "    # Compose the message\n",
    "    message = f\"The moisture level is {latest_entry['moisture']} which is lesser than 20.\"\n",
    "\n",
    "    # Send the message using FormsPree\n",
    "    url = 'https://formspree.io/f/moqzzpql'\n",
    "    payload = {\n",
    "        'message': message,\n",
    "        'email': 'your_email@example.com'  # Replace with your email\n",
    "    }\n",
    "\n",
    "    response = requests.post(url, data=payload)\n",
    "\n",
    "    if response.status_code == 200:\n",
    "        print(\"Message sent successfully.\")\n",
    "    else:\n",
    "        print(\"Failed to send message.\")\n",
    "else:\n",
    "    print(\"Moisture level is lesser than 20.\")\n"
   ]
  },
  {
   "cell_type": "code",
   "execution_count": 35,
   "id": "801a01de",
   "metadata": {},
   "outputs": [
    {
     "name": "stdout",
     "output_type": "stream",
     "text": [
      "Light level is not greater than 80.\n"
     ]
    }
   ],
   "source": [
    "import requests\n",
    "\n",
    "# Get the latest entry from the dataframe\n",
    "latest_entry = df.iloc[-1]\n",
    "\n",
    "# Check if light value is greater than 80\n",
    "if latest_entry['light'] > 80:\n",
    "    # Compose the message\n",
    "    message = f\"The light level is {latest_entry['light']} which is greater than 80.\"\n",
    "\n",
    "    # Send the message using FormsPree\n",
    "    url = 'https://formspree.io/f/xvonnvod'\n",
    "    payload = {\n",
    "        'message': message,\n",
    "        'email': 'your_email@example.com'  # Replace with your email\n",
    "    }\n",
    "\n",
    "    response = requests.post(url, data=payload)\n",
    "\n",
    "    if response.status_code == 200:\n",
    "        print(\"Message sent successfully.\")\n",
    "    else:\n",
    "        print(\"Failed to send message.\")\n",
    "else:\n",
    "    print(\"Light level is not greater than 80.\")\n"
   ]
  },
  {
   "cell_type": "code",
   "execution_count": null,
   "id": "af94a519",
   "metadata": {},
   "outputs": [
    {
     "name": "stdout",
     "output_type": "stream",
     "text": [
      " * Serving Flask app \"__main__\" (lazy loading)\n",
      " * Environment: production\n",
      "\u001b[31m   WARNING: This is a development server. Do not use it in a production deployment.\u001b[0m\n",
      "\u001b[2m   Use a production WSGI server instead.\u001b[0m\n",
      " * Debug mode: off\n"
     ]
    },
    {
     "name": "stderr",
     "output_type": "stream",
     "text": [
      " * Running on http://127.0.0.1:5000/ (Press CTRL+C to quit)\n",
      "[2023-05-27 12:46:12,070] ERROR in app: Exception on / [GET]\n",
      "Traceback (most recent call last):\n",
      "  File \"C:\\Users\\Acer pc\\anaconda3\\lib\\site-packages\\flask\\app.py\", line 2447, in wsgi_app\n",
      "    response = self.full_dispatch_request()\n",
      "  File \"C:\\Users\\Acer pc\\anaconda3\\lib\\site-packages\\flask\\app.py\", line 1952, in full_dispatch_request\n",
      "    rv = self.handle_user_exception(e)\n",
      "  File \"C:\\Users\\Acer pc\\anaconda3\\lib\\site-packages\\flask\\app.py\", line 1821, in handle_user_exception\n",
      "    reraise(exc_type, exc_value, tb)\n",
      "  File \"C:\\Users\\Acer pc\\anaconda3\\lib\\site-packages\\flask\\_compat.py\", line 39, in reraise\n",
      "    raise value\n",
      "  File \"C:\\Users\\Acer pc\\anaconda3\\lib\\site-packages\\flask\\app.py\", line 1950, in full_dispatch_request\n",
      "    rv = self.dispatch_request()\n",
      "  File \"C:\\Users\\Acer pc\\anaconda3\\lib\\site-packages\\flask\\app.py\", line 1936, in dispatch_request\n",
      "    return self.view_functions[rule.endpoint](**req.view_args)\n",
      "  File \"C:\\Users\\Acer pc\\AppData\\Local\\Temp\\ipykernel_3116\\1271402600.py\", line 36, in home\n",
      "    return render_template('index.html')\n",
      "  File \"C:\\Users\\Acer pc\\anaconda3\\lib\\site-packages\\flask\\templating.py\", line 138, in render_template\n",
      "    ctx.app.jinja_env.get_or_select_template(template_name_or_list),\n",
      "  File \"C:\\Users\\Acer pc\\anaconda3\\lib\\site-packages\\jinja2\\environment.py\", line 930, in get_or_select_template\n",
      "    return self.get_template(template_name_or_list, parent, globals)\n",
      "  File \"C:\\Users\\Acer pc\\anaconda3\\lib\\site-packages\\jinja2\\environment.py\", line 883, in get_template\n",
      "    return self._load_template(name, self.make_globals(globals))\n",
      "  File \"C:\\Users\\Acer pc\\anaconda3\\lib\\site-packages\\jinja2\\environment.py\", line 857, in _load_template\n",
      "    template = self.loader.load(self, name, globals)\n",
      "  File \"C:\\Users\\Acer pc\\anaconda3\\lib\\site-packages\\jinja2\\loaders.py\", line 115, in load\n",
      "    source, filename, uptodate = self.get_source(environment, name)\n",
      "  File \"C:\\Users\\Acer pc\\anaconda3\\lib\\site-packages\\flask\\templating.py\", line 60, in get_source\n",
      "    return self._get_source_fast(environment, template)\n",
      "  File \"C:\\Users\\Acer pc\\anaconda3\\lib\\site-packages\\flask\\templating.py\", line 89, in _get_source_fast\n",
      "    raise TemplateNotFound(template)\n",
      "jinja2.exceptions.TemplateNotFound: index.html\n",
      "127.0.0.1 - - [27/May/2023 12:46:12] \"GET / HTTP/1.1\" 500 -\n"
     ]
    }
   ],
   "source": [
    "from flask import Flask, render_template, request\n",
    "import requests\n",
    "\n",
    "app = Flask(__name__)\n",
    "\n",
    "@app.route('/', methods=['GET', 'POST'])\n",
    "def home():\n",
    "    if request.method == 'POST':\n",
    "        # Get the form data\n",
    "        moisture = int(request.form['moisture'])\n",
    "        light = int(request.form['light'])\n",
    "        \n",
    "        # Check if moisture value is greater than 100\n",
    "        if moisture > 100:\n",
    "            # Compose the message\n",
    "            message = f\"The moisture level is {moisture} which is greater than 100.\"\n",
    "\n",
    "            # Send the message using FormsPree\n",
    "            url = 'https://formspree.io/f/moqzzpql'\n",
    "            payload = {\n",
    "                'message': message,\n",
    "                'email': 'your_email@example.com'  # Replace with your email\n",
    "            }\n",
    "\n",
    "            response = requests.post(url, data=payload)\n",
    "\n",
    "            if response.status_code == 200:\n",
    "                result = \"Message sent successfully.\"\n",
    "            else:\n",
    "                result = \"Failed to send message.\"\n",
    "        else:\n",
    "            result = \"Moisture level is not greater than 100.\"\n",
    "\n",
    "        return render_template('index.html', result=result)\n",
    "    else:\n",
    "        return render_template('index.html')\n",
    "\n",
    "if __name__ == '__main__':\n",
    "    app.run()\n"
   ]
  },
  {
   "cell_type": "code",
   "execution_count": null,
   "id": "6760b9a2",
   "metadata": {},
   "outputs": [],
   "source": []
  },
  {
   "cell_type": "code",
   "execution_count": null,
   "id": "4d483955",
   "metadata": {},
   "outputs": [],
   "source": []
  },
  {
   "cell_type": "code",
   "execution_count": null,
   "id": "71688358",
   "metadata": {},
   "outputs": [],
   "source": []
  },
  {
   "cell_type": "code",
   "execution_count": null,
   "id": "888388ec",
   "metadata": {},
   "outputs": [],
   "source": []
  },
  {
   "cell_type": "code",
   "execution_count": null,
   "id": "89e2904e",
   "metadata": {},
   "outputs": [],
   "source": []
  },
  {
   "cell_type": "code",
   "execution_count": null,
   "id": "3715d39a",
   "metadata": {},
   "outputs": [],
   "source": []
  },
  {
   "cell_type": "code",
   "execution_count": null,
   "id": "a1a53218",
   "metadata": {},
   "outputs": [],
   "source": []
  }
 ],
 "metadata": {
  "kernelspec": {
   "display_name": "Python 3 (ipykernel)",
   "language": "python",
   "name": "python3"
  },
  "language_info": {
   "codemirror_mode": {
    "name": "ipython",
    "version": 3
   },
   "file_extension": ".py",
   "mimetype": "text/x-python",
   "name": "python",
   "nbconvert_exporter": "python",
   "pygments_lexer": "ipython3",
   "version": "3.9.13"
  }
 },
 "nbformat": 4,
 "nbformat_minor": 5
}
