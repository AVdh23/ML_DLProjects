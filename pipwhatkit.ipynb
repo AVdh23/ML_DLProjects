{
 "cells": [
  {
   "cell_type": "markdown",
   "id": "5071421a",
   "metadata": {},
   "source": [
    "pip install pywhatkit"
   ]
  },
  {
   "cell_type": "code",
   "execution_count": 2,
   "id": "adee2448",
   "metadata": {},
   "outputs": [
    {
     "name": "stdout",
     "output_type": "stream",
     "text": [
      "In 3 Seconds WhatsApp will open and after 15 Seconds Message will be Delivered!\n"
     ]
    }
   ],
   "source": [
    "import pywhatkit\n",
    "\n",
    "# Send a WhatsApp Message to a Contact at 22:59 PM\n",
    "pywhatkit.sendwhatmsg(\"+919990091106\", \"Hi\", 23,15)"
   ]
  },
  {
   "cell_type": "code",
   "execution_count": null,
   "id": "df8e1911",
   "metadata": {},
   "outputs": [
    {
     "name": "stdout",
     "output_type": "stream",
     "text": [
      "In 44 Seconds WhatsApp will open and after 15 Seconds Message will be Delivered!\n"
     ]
    }
   ],
   "source": [
    "# Same as above but Closes the Tab in 2 Seconds after Sending the Message\n",
    "pywhatkit.sendwhatmsg(\"+919990091106\", \"Hi2\", 23, 16, 15, True, 2)\n",
    "\n"
   ]
  },
  {
   "cell_type": "code",
   "execution_count": 7,
   "id": "b419e3f9",
   "metadata": {},
   "outputs": [],
   "source": [
    "pywhatkit.sendwhatmsg_to_group_instantly(\"files\", \"Hey All!\")"
   ]
  },
  {
   "cell_type": "code",
   "execution_count": null,
   "id": "e6d97de8",
   "metadata": {},
   "outputs": [],
   "source": []
  }
 ],
 "metadata": {
  "kernelspec": {
   "display_name": "Python 3 (ipykernel)",
   "language": "python",
   "name": "python3"
  },
  "language_info": {
   "codemirror_mode": {
    "name": "ipython",
    "version": 3
   },
   "file_extension": ".py",
   "mimetype": "text/x-python",
   "name": "python",
   "nbconvert_exporter": "python",
   "pygments_lexer": "ipython3",
   "version": "3.9.12"
  }
 },
 "nbformat": 4,
 "nbformat_minor": 5
}
