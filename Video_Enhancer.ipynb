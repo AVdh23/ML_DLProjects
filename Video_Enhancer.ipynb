{
 "cells": [
  {
   "cell_type": "code",
   "execution_count": 6,
   "id": "a7cb8318",
   "metadata": {},
   "outputs": [],
   "source": [
    "import cv2\n",
    "\n",
    "# Load the video\n",
    "video_path = r'C:\\Users\\Acer pc\\OneDrive - Manav Rachna Education Institutions\\Pictures\\Camera Roll\\WIN_20230510_23_46_46_Pro.mp4'\n",
    "cap = cv2.VideoCapture(video_path)\n",
    "\n",
    "# Create a VideoWriter object to save the enhanced video\n",
    "output_path = r\"C:\\Users\\Acer pc\\OneDrive - Manav Rachna Education Institutions\\Desktop\\UI-II\\New folder\\enhanced_video.mp4\"\n",
    "fps = cap.get(cv2.CAP_PROP_FPS)\n",
    "width = int(cap.get(cv2.CAP_PROP_FRAME_WIDTH))\n",
    "height = int(cap.get(cv2.CAP_PROP_FRAME_HEIGHT))\n",
    "fourcc = cv2.VideoWriter_fourcc(*'mp4v')\n",
    "out = cv2.VideoWriter(output_path, fourcc, fps, (width, height))\n",
    "\n",
    "# Process each frame and enhance the video\n",
    "while cap.isOpened():\n",
    "    ret, frame = cap.read()\n",
    "    if not ret:\n",
    "        break\n",
    "\n",
    "    # Convert the frame to grayscale\n",
    "    gray_frame = cv2.cvtColor(frame, cv2.COLOR_BGR2GRAY)\n",
    "\n",
    "    # Apply histogram equalization to enhance the frame\n",
    "    enhanced_frame = cv2.equalizeHist(gray_frame)\n",
    "\n",
    "    # Write the enhanced frame to the output video\n",
    "    out.write(enhanced_frame)\n",
    "\n",
    "    # Display the enhanced frame (optional)\n",
    "    cv2.imshow('Enhanced Video', enhanced_frame)\n",
    "    if cv2.waitKey(1) & 0xFF == ord('q'):\n",
    "        break\n",
    "\n",
    "# Release the resources\n",
    "cap.release()\n",
    "out.release()\n",
    "cv2.destroyAllWindows()\n"
   ]
  },
  {
   "cell_type": "code",
   "execution_count": null,
   "id": "7bb9e93e",
   "metadata": {},
   "outputs": [],
   "source": [
    "\"C:\\Users\\Acer pc\\Video_Enhancer.ipynb\""
   ]
  }
 ],
 "metadata": {
  "kernelspec": {
   "display_name": "Python 3 (ipykernel)",
   "language": "python",
   "name": "python3"
  },
  "language_info": {
   "codemirror_mode": {
    "name": "ipython",
    "version": 3
   },
   "file_extension": ".py",
   "mimetype": "text/x-python",
   "name": "python",
   "nbconvert_exporter": "python",
   "pygments_lexer": "ipython3",
   "version": "3.9.13"
  }
 },
 "nbformat": 4,
 "nbformat_minor": 5
}
