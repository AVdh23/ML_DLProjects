{
 "cells": [
  {
   "cell_type": "code",
   "execution_count": 1,
   "id": "c0855d3a",
   "metadata": {},
   "outputs": [
    {
     "name": "stdout",
     "output_type": "stream",
     "text": [
      "Requirement already satisfied: twint in c:\\users\\acer pc\\anaconda3\\lib\\site-packages (2.1.20)\n",
      "Requirement already satisfied: pandas in c:\\users\\acer pc\\anaconda3\\lib\\site-packages (from twint) (1.4.2)\n",
      "Requirement already satisfied: aiohttp in c:\\users\\acer pc\\anaconda3\\lib\\site-packages (from twint) (3.8.1)\n",
      "Requirement already satisfied: cchardet in c:\\users\\acer pc\\anaconda3\\lib\\site-packages (from twint) (2.1.7)\n",
      "Requirement already satisfied: fake-useragent in c:\\users\\acer pc\\anaconda3\\lib\\site-packages (from twint) (1.1.1)\n",
      "Requirement already satisfied: aiodns in c:\\users\\acer pc\\anaconda3\\lib\\site-packages (from twint) (3.0.0)\n",
      "Requirement already satisfied: aiohttp-socks in c:\\users\\acer pc\\anaconda3\\lib\\site-packages (from twint) (0.7.1)\n",
      "Requirement already satisfied: elasticsearch in c:\\users\\acer pc\\anaconda3\\lib\\site-packages (from twint) (8.6.2)\n",
      "Requirement already satisfied: pysocks in c:\\users\\acer pc\\anaconda3\\lib\\site-packages (from twint) (1.7.1)\n",
      "Requirement already satisfied: geopy in c:\\users\\acer pc\\anaconda3\\lib\\site-packages (from twint) (2.3.0)\n",
      "Requirement already satisfied: googletransx in c:\\users\\acer pc\\anaconda3\\lib\\site-packages (from twint) (2.4.2)\n",
      "Requirement already satisfied: beautifulsoup4 in c:\\users\\acer pc\\anaconda3\\lib\\site-packages (from twint) (4.11.1)\n",
      "Requirement already satisfied: schedule in c:\\users\\acer pc\\anaconda3\\lib\\site-packages (from twint) (1.1.0)\n",
      "Requirement already satisfied: pycares>=4.0.0 in c:\\users\\acer pc\\anaconda3\\lib\\site-packages (from aiodns->twint) (4.3.0)\n",
      "Requirement already satisfied: cffi>=1.5.0 in c:\\users\\acer pc\\anaconda3\\lib\\site-packages (from pycares>=4.0.0->aiodns->twint) (1.15.0)\n",
      "Requirement already satisfied: pycparser in c:\\users\\acer pc\\anaconda3\\lib\\site-packages (from cffi>=1.5.0->pycares>=4.0.0->aiodns->twint) (2.21)\n",
      "Requirement already satisfied: aiosignal>=1.1.2 in c:\\users\\acer pc\\anaconda3\\lib\\site-packages (from aiohttp->twint) (1.2.0)\n",
      "Requirement already satisfied: yarl<2.0,>=1.0 in c:\\users\\acer pc\\anaconda3\\lib\\site-packages (from aiohttp->twint) (1.6.3)\n",
      "Requirement already satisfied: async-timeout<5.0,>=4.0.0a3 in c:\\users\\acer pc\\anaconda3\\lib\\site-packages (from aiohttp->twint) (4.0.1)\n",
      "Requirement already satisfied: charset-normalizer<3.0,>=2.0 in c:\\users\\acer pc\\anaconda3\\lib\\site-packages (from aiohttp->twint) (2.0.4)\n",
      "Requirement already satisfied: attrs>=17.3.0 in c:\\users\\acer pc\\anaconda3\\lib\\site-packages (from aiohttp->twint) (21.4.0)\n",
      "Requirement already satisfied: frozenlist>=1.1.1 in c:\\users\\acer pc\\anaconda3\\lib\\site-packages (from aiohttp->twint) (1.2.0)\n",
      "Requirement already satisfied: multidict<7.0,>=4.5 in c:\\users\\acer pc\\anaconda3\\lib\\site-packages (from aiohttp->twint) (5.1.0)\n",
      "Requirement already satisfied: typing-extensions>=3.6.5 in c:\\users\\acer pc\\anaconda3\\lib\\site-packages (from async-timeout<5.0,>=4.0.0a3->aiohttp->twint) (4.5.0)\n",
      "Requirement already satisfied: idna>=2.0 in c:\\users\\acer pc\\anaconda3\\lib\\site-packages (from yarl<2.0,>=1.0->aiohttp->twint) (3.3)\n",
      "Requirement already satisfied: python-socks[asyncio]<3.0.0,>=2.0.0 in c:\\users\\acer pc\\anaconda3\\lib\\site-packages (from aiohttp-socks->twint) (2.1.1)\n",
      "Requirement already satisfied: soupsieve>1.2 in c:\\users\\acer pc\\anaconda3\\lib\\site-packages (from beautifulsoup4->twint) (2.3.1)\n",
      "Requirement already satisfied: elastic-transport<9,>=8 in c:\\users\\acer pc\\anaconda3\\lib\\site-packages (from elasticsearch->twint) (8.4.0)\n",
      "Requirement already satisfied: certifi in c:\\users\\acer pc\\anaconda3\\lib\\site-packages (from elastic-transport<9,>=8->elasticsearch->twint) (2021.10.8)\n",
      "Requirement already satisfied: urllib3<2,>=1.26.2 in c:\\users\\acer pc\\anaconda3\\lib\\site-packages (from elastic-transport<9,>=8->elasticsearch->twint) (1.26.9)\n",
      "Requirement already satisfied: importlib-resources>=5.0 in c:\\users\\acer pc\\anaconda3\\lib\\site-packages (from fake-useragent->twint) (5.12.0)\n",
      "Requirement already satisfied: zipp>=3.1.0 in c:\\users\\acer pc\\anaconda3\\lib\\site-packages (from importlib-resources>=5.0->fake-useragent->twint) (3.7.0)\n",
      "Requirement already satisfied: geographiclib<3,>=1.52 in c:\\users\\acer pc\\anaconda3\\lib\\site-packages (from geopy->twint) (2.0)\n",
      "Requirement already satisfied: requests in c:\\users\\acer pc\\anaconda3\\lib\\site-packages (from googletransx->twint) (2.27.1)\n",
      "Requirement already satisfied: python-dateutil>=2.8.1 in c:\\users\\acer pc\\anaconda3\\lib\\site-packages (from pandas->twint) (2.8.2)\n",
      "Requirement already satisfied: numpy>=1.18.5 in c:\\users\\acer pc\\anaconda3\\lib\\site-packages (from pandas->twint) (1.21.5)\n",
      "Requirement already satisfied: pytz>=2020.1 in c:\\users\\acer pc\\anaconda3\\lib\\site-packages (from pandas->twint) (2021.3)\n",
      "Requirement already satisfied: six>=1.5 in c:\\users\\acer pc\\anaconda3\\lib\\site-packages (from python-dateutil>=2.8.1->pandas->twint) (1.16.0)\n"
     ]
    }
   ],
   "source": [
    "#an advanced twitter scarpping package\n",
    "!pip3 install twint"
   ]
  },
  {
   "cell_type": "code",
   "execution_count": 2,
   "id": "9ce4212d",
   "metadata": {},
   "outputs": [],
   "source": [
    "# To patch asyncio to allow nested use of **asyncio.run** and **loop.run_until_complete**\n",
    "# Modeule to patch asyncio to allow nested use of asyncio.run\n",
    "import nest_asyncio\n",
    "nest_asyncio.apply()"
   ]
  },
  {
   "cell_type": "code",
   "execution_count": 3,
   "id": "b22c6c5e",
   "metadata": {},
   "outputs": [],
   "source": [
    "#import Twint\n",
    "import twint\n",
    "     "
   ]
  },
  {
   "cell_type": "code",
   "execution_count": null,
   "id": "3f859c7e",
   "metadata": {},
   "outputs": [
    {
     "name": "stderr",
     "output_type": "stream",
     "text": [
      "CRITICAL:root:twint.run:Twint:Feed:noDataExpecting value: line 1 column 1 (char 0)\n",
      "sleeping for 1.0 secs\n",
      "CRITICAL:root:twint.run:Twint:Feed:noDataExpecting value: line 1 column 1 (char 0)\n",
      "sleeping for 8.0 secs\n",
      "CRITICAL:root:twint.run:Twint:Feed:noDataExpecting value: line 1 column 1 (char 0)\n",
      "sleeping for 27.0 secs\n",
      "CRITICAL:root:twint.run:Twint:Feed:noDataExpecting value: line 1 column 1 (char 0)\n",
      "sleeping for 64.0 secs\n"
     ]
    }
   ],
   "source": [
    "# Configure\n",
    "c = twint.Config()\n",
    "#Collecting data (Target -> Coles Supermarket)\n",
    "c.Search = \"@narendramodi\"\n",
    "c.Since = '2023-01-01'\n",
    "c.Until = '2023-02-01'\n",
    "#Config for file storage\n",
    "c.Lang =\"en\"\n",
    "c.Store_csv = True  # To save tweets in a CSV format\n",
    "c.Output = \"tweetscoles.csv\"\n",
    "\n",
    "# Run\n",
    "twint.run.Search(c)\n",
    "     "
   ]
  },
  {
   "cell_type": "code",
   "execution_count": null,
   "id": "304a5538",
   "metadata": {},
   "outputs": [],
   "source": [
    "#Config to resolve issues with Twint\n",
    "# To resolve twint data scraping issue\n",
    "!git clone --depth=1 https://github.com/twintproject/twint.git\n",
    "%cd twint\n",
    "!pip3 install . -r requirements.txt"
   ]
  },
  {
   "cell_type": "code",
   "execution_count": null,
   "id": "db85b93c",
   "metadata": {},
   "outputs": [],
   "source": [
    "#Installing pyLDAvis\n",
    "!pip install pyLDAvis\n",
    "     "
   ]
  },
  {
   "cell_type": "code",
   "execution_count": null,
   "id": "b519a67e",
   "metadata": {},
   "outputs": [],
   "source": []
  }
 ],
 "metadata": {
  "kernelspec": {
   "display_name": "Python 3 (ipykernel)",
   "language": "python",
   "name": "python3"
  },
  "language_info": {
   "codemirror_mode": {
    "name": "ipython",
    "version": 3
   },
   "file_extension": ".py",
   "mimetype": "text/x-python",
   "name": "python",
   "nbconvert_exporter": "python",
   "pygments_lexer": "ipython3",
   "version": "3.9.12"
  }
 },
 "nbformat": 4,
 "nbformat_minor": 5
}
