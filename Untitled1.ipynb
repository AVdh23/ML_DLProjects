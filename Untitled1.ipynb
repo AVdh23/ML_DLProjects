{
 "cells": [
  {
   "cell_type": "markdown",
   "id": "8ce91cd1",
   "metadata": {},
   "source": [
    "## Applying CNN on the Cifar dataset"
   ]
  },
  {
   "cell_type": "markdown",
   "id": "a4f3cd03",
   "metadata": {},
   "source": [
    "#### importing the packages"
   ]
  },
  {
   "cell_type": "code",
   "execution_count": 1,
   "id": "79aff103",
   "metadata": {},
   "outputs": [],
   "source": [
    "\n",
    "from tensorflow.keras import datasets ,layers,models\n",
    "import matplotlib.pyplot as plt\n",
    "import numpy as np\n"
   ]
  },
  {
   "cell_type": "code",
   "execution_count": null,
   "id": "39ffd267",
   "metadata": {},
   "outputs": [],
   "source": [
    "import tensorflow as tf\n",
    "print(tf.__version__)\n",
    "(train_x, train_y), (test_x, test_y) = tf.keras.datasets.cifar10.load_data()"
   ]
  },
  {
   "cell_type": "code",
   "execution_count": null,
   "id": "f74b4078",
   "metadata": {},
   "outputs": [],
   "source": [
    "X_test.shape"
   ]
  }
 ],
 "metadata": {
  "kernelspec": {
   "display_name": "Python 3 (ipykernel)",
   "language": "python",
   "name": "python3"
  },
  "language_info": {
   "codemirror_mode": {
    "name": "ipython",
    "version": 3
   },
   "file_extension": ".py",
   "mimetype": "text/x-python",
   "name": "python",
   "nbconvert_exporter": "python",
   "pygments_lexer": "ipython3",
   "version": "3.9.13"
  }
 },
 "nbformat": 4,
 "nbformat_minor": 5
}
