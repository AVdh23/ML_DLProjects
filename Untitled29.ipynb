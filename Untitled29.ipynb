{
 "cells": [
  {
   "cell_type": "code",
   "execution_count": 2,
   "id": "1003d7d4",
   "metadata": {},
   "outputs": [],
   "source": [
    "# We are importing this package called pyscreenshot to take the input by using paint \n",
    "\n",
    "import pyscreenshot as ImageGrab\n",
    "import time\n",
    "import os\n",
    "import numpy as np\n",
    "from PIL import Image\n",
    "from tensorflow.keras.preprocessing.image import ImageDataGenerator\n",
    "import cv2\n",
    "import csv\n",
    "import glob\n",
    "import pandas as pd\n",
    "from sklearn.utils import shuffle"
   ]
  },
  {
   "cell_type": "code",
   "execution_count": 10,
   "id": "67fa0e10",
   "metadata": {},
   "outputs": [
    {
     "name": "stdout",
     "output_type": "stream",
     "text": [
      "saved............................. 0\n",
      "Clearing Screen Now and Redraw again.....\n",
      "saved............................. 1\n",
      "Clearing Screen Now and Redraw again.....\n",
      "saved............................. 2\n",
      "Clearing Screen Now and Redraw again.....\n",
      "saved............................. 3\n",
      "Clearing Screen Now and Redraw again.....\n",
      "saved............................. 4\n",
      "Clearing Screen Now and Redraw again.....\n"
     ]
    }
   ],
   "source": [
    "\n",
    "\n",
    "\n",
    "\n",
    "\n",
    "\n",
    "\n",
    "\n",
    "\n",
    "\n",
    "\n",
    "# Taking Inputs\n",
    "# First taking inputs for digit 0\n",
    "images_folder=r\"C:\\Users\\Acer pc\\Handwritten_Digit_Recognition\\Input_images\\0 \"\n",
    "screen_width, screen_height = ImageGrab.grab().size\n",
    "for i in range(0,5):\n",
    "    time.sleep(5)\n",
    "    im=ImageGrab.grab(bbox=(200,300,(screen_width//2)-200, screen_height-200)) #x1,y1,x2,y2\n",
    "\n",
    "    print(\"saved.............................\",i)\n",
    "    im.save(images_folder+str(i)+'.png')\n",
    "    print(\"Clearing Screen Now and Redraw again.....\")\n",
    "    \n",
    "\n",
    "# SO we can increase the time in sleep in order to change the image and can draw multiple images of digit.\n"
   ]
  },
  {
   "cell_type": "code",
   "execution_count": null,
   "id": "6315ae9e",
   "metadata": {},
   "outputs": [],
   "source": []
  },
  {
   "cell_type": "code",
   "execution_count": null,
   "id": "201da842",
   "metadata": {},
   "outputs": [],
   "source": []
  }
 ],
 "metadata": {
  "kernelspec": {
   "display_name": "Python 3 (ipykernel)",
   "language": "python",
   "name": "python3"
  },
  "language_info": {
   "codemirror_mode": {
    "name": "ipython",
    "version": 3
   },
   "file_extension": ".py",
   "mimetype": "text/x-python",
   "name": "python",
   "nbconvert_exporter": "python",
   "pygments_lexer": "ipython3",
   "version": "3.9.13"
  }
 },
 "nbformat": 4,
 "nbformat_minor": 5
}
