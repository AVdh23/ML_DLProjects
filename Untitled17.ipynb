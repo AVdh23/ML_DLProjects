{
 "cells": [
  {
   "cell_type": "code",
   "execution_count": 1,
   "id": "809b2001",
   "metadata": {},
   "outputs": [
    {
     "name": "stdout",
     "output_type": "stream",
     "text": [
      "Requirement already satisfied: tweepy in c:\\users\\acer pc\\anaconda3\\lib\\site-packages (4.12.1)\n",
      "Requirement already satisfied: oauthlib<4,>=3.2.0 in c:\\users\\acer pc\\anaconda3\\lib\\site-packages (from tweepy) (3.2.2)\n",
      "Requirement already satisfied: requests<3,>=2.27.0 in c:\\users\\acer pc\\anaconda3\\lib\\site-packages (from tweepy) (2.27.1)\n",
      "Requirement already satisfied: requests-oauthlib<2,>=1.2.0 in c:\\users\\acer pc\\anaconda3\\lib\\site-packages (from tweepy) (1.3.1)\n",
      "Requirement already satisfied: certifi>=2017.4.17 in c:\\users\\acer pc\\anaconda3\\lib\\site-packages (from requests<3,>=2.27.0->tweepy) (2021.10.8)\n",
      "Requirement already satisfied: urllib3<1.27,>=1.21.1 in c:\\users\\acer pc\\anaconda3\\lib\\site-packages (from requests<3,>=2.27.0->tweepy) (1.26.9)\n",
      "Requirement already satisfied: charset-normalizer~=2.0.0 in c:\\users\\acer pc\\anaconda3\\lib\\site-packages (from requests<3,>=2.27.0->tweepy) (2.0.4)\n",
      "Requirement already satisfied: idna<4,>=2.5 in c:\\users\\acer pc\\anaconda3\\lib\\site-packages (from requests<3,>=2.27.0->tweepy) (3.3)\n"
     ]
    }
   ],
   "source": [
    "!pip install tweepy"
   ]
  },
  {
   "cell_type": "code",
   "execution_count": 2,
   "id": "9f7b7cbf",
   "metadata": {},
   "outputs": [
    {
     "name": "stdout",
     "output_type": "stream",
     "text": [
      "Requirement already satisfied: textblob in c:\\users\\acer pc\\anaconda3\\lib\\site-packages (0.17.1)\n",
      "Requirement already satisfied: nltk>=3.1 in c:\\users\\acer pc\\anaconda3\\lib\\site-packages (from textblob) (3.7)\n",
      "Requirement already satisfied: joblib in c:\\users\\acer pc\\anaconda3\\lib\\site-packages (from nltk>=3.1->textblob) (1.2.0)\n",
      "Requirement already satisfied: regex>=2021.8.3 in c:\\users\\acer pc\\anaconda3\\lib\\site-packages (from nltk>=3.1->textblob) (2022.3.15)\n",
      "Requirement already satisfied: tqdm in c:\\users\\acer pc\\anaconda3\\lib\\site-packages (from nltk>=3.1->textblob) (4.64.0)\n",
      "Requirement already satisfied: click in c:\\users\\acer pc\\anaconda3\\lib\\site-packages (from nltk>=3.1->textblob) (8.0.4)\n",
      "Requirement already satisfied: colorama in c:\\users\\acer pc\\anaconda3\\lib\\site-packages (from click->nltk>=3.1->textblob) (0.4.6)\n",
      "Note: you may need to restart the kernel to use updated packages.\n"
     ]
    }
   ],
   "source": [
    "pip install textblob"
   ]
  },
  {
   "cell_type": "code",
   "execution_count": 3,
   "id": "110b6f18",
   "metadata": {},
   "outputs": [
    {
     "name": "stdout",
     "output_type": "stream",
     "text": [
      "Number of tweets expressing love for Modi: 677\n",
      "Number of tweets expressing hate for Modi: 33\n"
     ]
    }
   ],
   "source": [
    "import pandas as pd\n",
    "import re\n",
    "from nltk.corpus import stopwords\n",
    "from textblob import TextBlob\n",
    "df = pd.read_csv(r\"C:\\Users\\Acer pc\\OneDrive - Manav Rachna Education Institutions\\Desktop\\modi.csv\")\n",
    "stop_words = set(stopwords.words('english'))\n",
    "love_words = ['love', 'support', 'like', 'admire', 'respect']\n",
    "hate_words = ['hate', 'dislike', 'disapprove', 'condemn']\n",
    "def process_tweet(tweet):\n",
    " \n",
    "    tweet = re.sub(r'http\\S+', '', tweet)\n",
    "    tweet = re.sub(r'@[A-Za-z0-9]+', '', tweet)\n",
    "    tweet = re.sub(r'#', '', tweet)\n",
    "    tokens = re.findall(r'\\w+', tweet.lower())\n",
    "    tokens = [token for token in tokens if token not in stop_words]\n",
    "    love_count = sum([tokens.count(word) for word in love_words])\n",
    "    hate_count = sum([tokens.count(word) for word in hate_words])\n",
    "    if love_count > hate_count:\n",
    "        sentiment = 'love'\n",
    "    elif hate_count > love_count:\n",
    "        sentiment = 'hate'\n",
    "    else:\n",
    "        sentiment = 'neutral'\n",
    "    \n",
    "    return sentiment\n",
    "\n",
    "df['sentiment'] = df['Embedded_text'].apply(process_tweet)\n",
    "love_count = df['sentiment'].value_counts()['love']\n",
    "hate_count = df['sentiment'].value_counts()['hate']\n",
    "print(f'Number of tweets expressing love for Modi: {love_count}')\n",
    "print(f'Number of tweets expressing hate for Modi: {hate_count}')"
   ]
  },
  {
   "cell_type": "code",
   "execution_count": null,
   "id": "5ffa94ca",
   "metadata": {},
   "outputs": [],
   "source": []
  }
 ],
 "metadata": {
  "kernelspec": {
   "display_name": "Python 3 (ipykernel)",
   "language": "python",
   "name": "python3"
  },
  "language_info": {
   "codemirror_mode": {
    "name": "ipython",
    "version": 3
   },
   "file_extension": ".py",
   "mimetype": "text/x-python",
   "name": "python",
   "nbconvert_exporter": "python",
   "pygments_lexer": "ipython3",
   "version": "3.9.12"
  }
 },
 "nbformat": 4,
 "nbformat_minor": 5
}
